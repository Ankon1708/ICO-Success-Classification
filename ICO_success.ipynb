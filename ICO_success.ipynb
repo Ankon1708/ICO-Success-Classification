{
 "cells": [
  {
   "cell_type": "markdown",
   "metadata": {
    "id": "mBrImRi6p3m5"
   },
   "source": [
    "# LUBS 5990 ACW\n",
    "### Ankon Bhowmick - 201791639"
   ]
  },
  {
   "cell_type": "markdown",
   "metadata": {
    "id": "lvKb92V7qBDk"
   },
   "source": [
    "# Data preparation\n"
   ]
  },
  {
   "cell_type": "code",
   "execution_count": 444,
   "metadata": {
    "id": "xcqEC8JopoKD"
   },
   "outputs": [],
   "source": [
    "import pandas as pd\n",
    "import numpy as np\n",
    "import matplotlib.pyplot as plt\n",
    "from sklearn.preprocessing import OneHotEncoder\n",
    "from sklearn.ensemble import RandomForestClassifier\n",
    "from sklearn.model_selection import train_test_split\n",
    "from sklearn.metrics import confusion_matrix,roc_curve, roc_auc_score, auc\n",
    "import sklearn.metrics as skm\n",
    "from imblearn.over_sampling import SMOTE\n",
    "from imblearn.under_sampling import RandomUnderSampler\n",
    "from sklearn.svm import SVC\n",
    "import seaborn as sns"
   ]
  },
  {
   "cell_type": "code",
   "execution_count": 148,
   "metadata": {
    "id": "S1B_hbLBq-D7"
   },
   "outputs": [],
   "source": [
    "df=pd.read_csv(r\"C:\\Users\\ASUS\\OneDrive - University of Leeds\\Semester 2\\LUBS5990\\LUBS5990M_courseworkData_2324.csv\")"
   ]
  },
  {
   "cell_type": "code",
   "execution_count": 149,
   "metadata": {
    "colab": {
     "base_uri": "https://localhost:8080/"
    },
    "id": "3bqxGweorWIg",
    "outputId": "5f483f89-a500-4d02-fcb6-8f7ee1375a18",
    "scrolled": true
   },
   "outputs": [
    {
     "name": "stdout",
     "output_type": "stream",
     "text": [
      "<class 'pandas.core.frame.DataFrame'>\n",
      "RangeIndex: 2767 entries, 0 to 2766\n",
      "Data columns (total 16 columns):\n",
      " #   Column                 Non-Null Count  Dtype  \n",
      "---  ------                 --------------  -----  \n",
      " 0   ID                     2767 non-null   int64  \n",
      " 1   success                2767 non-null   object \n",
      " 2   brandSlogan            2767 non-null   object \n",
      " 3   hasVideo               2767 non-null   int64  \n",
      " 4   rating                 2767 non-null   float64\n",
      " 5   priceUSD               2587 non-null   float64\n",
      " 6   countryRegion          2696 non-null   object \n",
      " 7   startDate              2767 non-null   object \n",
      " 8   endDate                2767 non-null   object \n",
      " 9   teamSize               2613 non-null   float64\n",
      " 10  hasGithub              2767 non-null   int64  \n",
      " 11  hasReddit              2767 non-null   int64  \n",
      " 12  platform               2767 non-null   object \n",
      " 13  coinNum                2767 non-null   float64\n",
      " 14  minInvestment          2767 non-null   int64  \n",
      " 15  distributedPercentage  2767 non-null   float64\n",
      "dtypes: float64(5), int64(5), object(6)\n",
      "memory usage: 346.0+ KB\n"
     ]
    }
   ],
   "source": [
    "df.info()"
   ]
  },
  {
   "cell_type": "code",
   "execution_count": null,
   "metadata": {},
   "outputs": [],
   "source": []
  },
  {
   "cell_type": "code",
   "execution_count": 150,
   "metadata": {
    "colab": {
     "base_uri": "https://localhost:8080/",
     "height": 320
    },
    "id": "moV8FaFQrct4",
    "outputId": "76c0bbf2-d1c8-47cc-c7f5-d6d037b15c57",
    "scrolled": true
   },
   "outputs": [
    {
     "data": {
      "text/html": [
       "<div>\n",
       "<style scoped>\n",
       "    .dataframe tbody tr th:only-of-type {\n",
       "        vertical-align: middle;\n",
       "    }\n",
       "\n",
       "    .dataframe tbody tr th {\n",
       "        vertical-align: top;\n",
       "    }\n",
       "\n",
       "    .dataframe thead th {\n",
       "        text-align: right;\n",
       "    }\n",
       "</style>\n",
       "<table border=\"1\" class=\"dataframe\">\n",
       "  <thead>\n",
       "    <tr style=\"text-align: right;\">\n",
       "      <th></th>\n",
       "      <th>rating</th>\n",
       "      <th>priceUSD</th>\n",
       "      <th>teamSize</th>\n",
       "      <th>coinNum</th>\n",
       "      <th>distributedPercentage</th>\n",
       "    </tr>\n",
       "  </thead>\n",
       "  <tbody>\n",
       "    <tr>\n",
       "      <th>count</th>\n",
       "      <td>2767.000000</td>\n",
       "      <td>2587.000000</td>\n",
       "      <td>2613.000000</td>\n",
       "      <td>2.767000e+03</td>\n",
       "      <td>2767.000000</td>\n",
       "    </tr>\n",
       "    <tr>\n",
       "      <th>mean</th>\n",
       "      <td>3.121323</td>\n",
       "      <td>19.014036</td>\n",
       "      <td>13.107539</td>\n",
       "      <td>8.177880e+12</td>\n",
       "      <td>1.061370</td>\n",
       "    </tr>\n",
       "    <tr>\n",
       "      <th>std</th>\n",
       "      <td>0.714452</td>\n",
       "      <td>775.287126</td>\n",
       "      <td>8.082433</td>\n",
       "      <td>4.300018e+14</td>\n",
       "      <td>17.485513</td>\n",
       "    </tr>\n",
       "    <tr>\n",
       "      <th>min</th>\n",
       "      <td>1.000000</td>\n",
       "      <td>0.000000</td>\n",
       "      <td>1.000000</td>\n",
       "      <td>1.200000e+01</td>\n",
       "      <td>0.000000</td>\n",
       "    </tr>\n",
       "    <tr>\n",
       "      <th>25%</th>\n",
       "      <td>2.600000</td>\n",
       "      <td>0.040000</td>\n",
       "      <td>7.000000</td>\n",
       "      <td>5.000000e+07</td>\n",
       "      <td>0.400000</td>\n",
       "    </tr>\n",
       "    <tr>\n",
       "      <th>50%</th>\n",
       "      <td>3.100000</td>\n",
       "      <td>0.120000</td>\n",
       "      <td>12.000000</td>\n",
       "      <td>1.800000e+08</td>\n",
       "      <td>0.550000</td>\n",
       "    </tr>\n",
       "    <tr>\n",
       "      <th>75%</th>\n",
       "      <td>3.700000</td>\n",
       "      <td>0.500000</td>\n",
       "      <td>17.000000</td>\n",
       "      <td>6.000000e+08</td>\n",
       "      <td>0.700000</td>\n",
       "    </tr>\n",
       "    <tr>\n",
       "      <th>max</th>\n",
       "      <td>4.800000</td>\n",
       "      <td>39384.000000</td>\n",
       "      <td>75.000000</td>\n",
       "      <td>2.261908e+16</td>\n",
       "      <td>869.750000</td>\n",
       "    </tr>\n",
       "  </tbody>\n",
       "</table>\n",
       "</div>"
      ],
      "text/plain": [
       "            rating      priceUSD     teamSize       coinNum  \\\n",
       "count  2767.000000   2587.000000  2613.000000  2.767000e+03   \n",
       "mean      3.121323     19.014036    13.107539  8.177880e+12   \n",
       "std       0.714452    775.287126     8.082433  4.300018e+14   \n",
       "min       1.000000      0.000000     1.000000  1.200000e+01   \n",
       "25%       2.600000      0.040000     7.000000  5.000000e+07   \n",
       "50%       3.100000      0.120000    12.000000  1.800000e+08   \n",
       "75%       3.700000      0.500000    17.000000  6.000000e+08   \n",
       "max       4.800000  39384.000000    75.000000  2.261908e+16   \n",
       "\n",
       "       distributedPercentage  \n",
       "count            2767.000000  \n",
       "mean                1.061370  \n",
       "std                17.485513  \n",
       "min                 0.000000  \n",
       "25%                 0.400000  \n",
       "50%                 0.550000  \n",
       "75%                 0.700000  \n",
       "max               869.750000  "
      ]
     },
     "execution_count": 150,
     "metadata": {},
     "output_type": "execute_result"
    }
   ],
   "source": [
    "df[df.columns[[4,5,9,13,15]]].describe()"
   ]
  },
  {
   "cell_type": "code",
   "execution_count": 151,
   "metadata": {},
   "outputs": [
    {
     "data": {
      "text/html": [
       "<div>\n",
       "<style scoped>\n",
       "    .dataframe tbody tr th:only-of-type {\n",
       "        vertical-align: middle;\n",
       "    }\n",
       "\n",
       "    .dataframe tbody tr th {\n",
       "        vertical-align: top;\n",
       "    }\n",
       "\n",
       "    .dataframe thead th {\n",
       "        text-align: right;\n",
       "    }\n",
       "</style>\n",
       "<table border=\"1\" class=\"dataframe\">\n",
       "  <thead>\n",
       "    <tr style=\"text-align: right;\">\n",
       "      <th></th>\n",
       "      <th>ID</th>\n",
       "      <th>success</th>\n",
       "      <th>brandSlogan</th>\n",
       "      <th>hasVideo</th>\n",
       "      <th>rating</th>\n",
       "      <th>priceUSD</th>\n",
       "      <th>countryRegion</th>\n",
       "      <th>startDate</th>\n",
       "      <th>endDate</th>\n",
       "      <th>teamSize</th>\n",
       "      <th>hasGithub</th>\n",
       "      <th>hasReddit</th>\n",
       "      <th>platform</th>\n",
       "      <th>coinNum</th>\n",
       "      <th>minInvestment</th>\n",
       "      <th>distributedPercentage</th>\n",
       "    </tr>\n",
       "  </thead>\n",
       "  <tbody>\n",
       "    <tr>\n",
       "      <th>383</th>\n",
       "      <td>384</td>\n",
       "      <td>N</td>\n",
       "      <td>Participate in the Global Revenue of Osmium</td>\n",
       "      <td>1</td>\n",
       "      <td>4.2</td>\n",
       "      <td>39384.00</td>\n",
       "      <td>Serbia</td>\n",
       "      <td>09/09/2018</td>\n",
       "      <td>30/07/2019</td>\n",
       "      <td>16.0</td>\n",
       "      <td>1</td>\n",
       "      <td>1</td>\n",
       "      <td>Ethereum</td>\n",
       "      <td>210000000.0</td>\n",
       "      <td>0</td>\n",
       "      <td>0.84</td>\n",
       "    </tr>\n",
       "    <tr>\n",
       "      <th>39</th>\n",
       "      <td>40</td>\n",
       "      <td>Y</td>\n",
       "      <td>An Evolution of the Gold Standard</td>\n",
       "      <td>1</td>\n",
       "      <td>4.4</td>\n",
       "      <td>1000.00</td>\n",
       "      <td>Cayman Islands</td>\n",
       "      <td>10/09/2018</td>\n",
       "      <td>07/09/2019</td>\n",
       "      <td>32.0</td>\n",
       "      <td>1</td>\n",
       "      <td>1</td>\n",
       "      <td>Ethereum</td>\n",
       "      <td>210000.0</td>\n",
       "      <td>1</td>\n",
       "      <td>0.70</td>\n",
       "    </tr>\n",
       "    <tr>\n",
       "      <th>53</th>\n",
       "      <td>54</td>\n",
       "      <td>Y</td>\n",
       "      <td>New World Economic Order</td>\n",
       "      <td>1</td>\n",
       "      <td>3.3</td>\n",
       "      <td>888.88</td>\n",
       "      <td>Liechtenstein</td>\n",
       "      <td>23/11/2018</td>\n",
       "      <td>20/03/2019</td>\n",
       "      <td>25.0</td>\n",
       "      <td>0</td>\n",
       "      <td>1</td>\n",
       "      <td>Ethereum</td>\n",
       "      <td>86780.0</td>\n",
       "      <td>1</td>\n",
       "      <td>0.60</td>\n",
       "    </tr>\n",
       "    <tr>\n",
       "      <th>2162</th>\n",
       "      <td>2163</td>\n",
       "      <td>N</td>\n",
       "      <td>Decentralized Live Media Streaming Platform</td>\n",
       "      <td>0</td>\n",
       "      <td>2.6</td>\n",
       "      <td>647.74</td>\n",
       "      <td>USA</td>\n",
       "      <td>22/05/2018</td>\n",
       "      <td>22/10/2018</td>\n",
       "      <td>17.0</td>\n",
       "      <td>0</td>\n",
       "      <td>0</td>\n",
       "      <td>Ethereum</td>\n",
       "      <td>10000000.0</td>\n",
       "      <td>1</td>\n",
       "      <td>0.20</td>\n",
       "    </tr>\n",
       "    <tr>\n",
       "      <th>2244</th>\n",
       "      <td>2245</td>\n",
       "      <td>N</td>\n",
       "      <td>Marketing. Redefined.</td>\n",
       "      <td>1</td>\n",
       "      <td>2.4</td>\n",
       "      <td>642.40</td>\n",
       "      <td>USA</td>\n",
       "      <td>28/11/2017</td>\n",
       "      <td>19/12/2017</td>\n",
       "      <td>6.0</td>\n",
       "      <td>0</td>\n",
       "      <td>0</td>\n",
       "      <td>Ethereum</td>\n",
       "      <td>500000.0</td>\n",
       "      <td>0</td>\n",
       "      <td>0.74</td>\n",
       "    </tr>\n",
       "    <tr>\n",
       "      <th>...</th>\n",
       "      <td>...</td>\n",
       "      <td>...</td>\n",
       "      <td>...</td>\n",
       "      <td>...</td>\n",
       "      <td>...</td>\n",
       "      <td>...</td>\n",
       "      <td>...</td>\n",
       "      <td>...</td>\n",
       "      <td>...</td>\n",
       "      <td>...</td>\n",
       "      <td>...</td>\n",
       "      <td>...</td>\n",
       "      <td>...</td>\n",
       "      <td>...</td>\n",
       "      <td>...</td>\n",
       "      <td>...</td>\n",
       "    </tr>\n",
       "    <tr>\n",
       "      <th>1570</th>\n",
       "      <td>1571</td>\n",
       "      <td>N</td>\n",
       "      <td>Decentralized Domain Eco System</td>\n",
       "      <td>0</td>\n",
       "      <td>2.9</td>\n",
       "      <td>1.09</td>\n",
       "      <td>Seychelles</td>\n",
       "      <td>02/08/2017</td>\n",
       "      <td>30/09/2017</td>\n",
       "      <td>13.0</td>\n",
       "      <td>0</td>\n",
       "      <td>1</td>\n",
       "      <td>Ethereum</td>\n",
       "      <td>98000000.0</td>\n",
       "      <td>0</td>\n",
       "      <td>0.90</td>\n",
       "    </tr>\n",
       "    <tr>\n",
       "      <th>1896</th>\n",
       "      <td>1897</td>\n",
       "      <td>N</td>\n",
       "      <td>The Future of Hiring is Here</td>\n",
       "      <td>1</td>\n",
       "      <td>2.6</td>\n",
       "      <td>1.05</td>\n",
       "      <td>USA</td>\n",
       "      <td>09/04/2018</td>\n",
       "      <td>30/06/2018</td>\n",
       "      <td>7.0</td>\n",
       "      <td>1</td>\n",
       "      <td>1</td>\n",
       "      <td>Ethereum</td>\n",
       "      <td>17000000.0</td>\n",
       "      <td>0</td>\n",
       "      <td>0.23</td>\n",
       "    </tr>\n",
       "    <tr>\n",
       "      <th>1803</th>\n",
       "      <td>1804</td>\n",
       "      <td>N</td>\n",
       "      <td>Expanding the usage of cryptocurrencies</td>\n",
       "      <td>1</td>\n",
       "      <td>3.0</td>\n",
       "      <td>1.02</td>\n",
       "      <td>Estonia</td>\n",
       "      <td>20/11/2017</td>\n",
       "      <td>20/12/2017</td>\n",
       "      <td>9.0</td>\n",
       "      <td>0</td>\n",
       "      <td>0</td>\n",
       "      <td>Ethereum</td>\n",
       "      <td>12000000.0</td>\n",
       "      <td>0</td>\n",
       "      <td>0.50</td>\n",
       "    </tr>\n",
       "    <tr>\n",
       "      <th>80</th>\n",
       "      <td>81</td>\n",
       "      <td>Y</td>\n",
       "      <td>A Revolution in Global Investment</td>\n",
       "      <td>1</td>\n",
       "      <td>4.3</td>\n",
       "      <td>1.01</td>\n",
       "      <td>Switzerland</td>\n",
       "      <td>27/12/2018</td>\n",
       "      <td>27/03/2019</td>\n",
       "      <td>20.0</td>\n",
       "      <td>1</td>\n",
       "      <td>1</td>\n",
       "      <td>Ethereum</td>\n",
       "      <td>45000000.0</td>\n",
       "      <td>1</td>\n",
       "      <td>0.45</td>\n",
       "    </tr>\n",
       "    <tr>\n",
       "      <th>1948</th>\n",
       "      <td>1949</td>\n",
       "      <td>N</td>\n",
       "      <td>Your Fintech Solution</td>\n",
       "      <td>1</td>\n",
       "      <td>2.7</td>\n",
       "      <td>1.01</td>\n",
       "      <td>Chile</td>\n",
       "      <td>15/08/2018</td>\n",
       "      <td>30/11/2018</td>\n",
       "      <td>6.0</td>\n",
       "      <td>0</td>\n",
       "      <td>0</td>\n",
       "      <td>Bitcoin</td>\n",
       "      <td>20000000.0</td>\n",
       "      <td>0</td>\n",
       "      <td>0.34</td>\n",
       "    </tr>\n",
       "  </tbody>\n",
       "</table>\n",
       "<p>273 rows × 16 columns</p>\n",
       "</div>"
      ],
      "text/plain": [
       "        ID success                                  brandSlogan  hasVideo  \\\n",
       "383    384       N  Participate in the Global Revenue of Osmium         1   \n",
       "39      40       Y            An Evolution of the Gold Standard         1   \n",
       "53      54       Y                     New World Economic Order         1   \n",
       "2162  2163       N  Decentralized Live Media Streaming Platform         0   \n",
       "2244  2245       N                        Marketing. Redefined.         1   \n",
       "...    ...     ...                                          ...       ...   \n",
       "1570  1571       N              Decentralized Domain Eco System         0   \n",
       "1896  1897       N                 The Future of Hiring is Here         1   \n",
       "1803  1804       N      Expanding the usage of cryptocurrencies         1   \n",
       "80      81       Y            A Revolution in Global Investment         1   \n",
       "1948  1949       N                        Your Fintech Solution         1   \n",
       "\n",
       "      rating  priceUSD   countryRegion   startDate     endDate  teamSize  \\\n",
       "383      4.2  39384.00          Serbia  09/09/2018  30/07/2019      16.0   \n",
       "39       4.4   1000.00  Cayman Islands  10/09/2018  07/09/2019      32.0   \n",
       "53       3.3    888.88   Liechtenstein  23/11/2018  20/03/2019      25.0   \n",
       "2162     2.6    647.74             USA  22/05/2018  22/10/2018      17.0   \n",
       "2244     2.4    642.40             USA  28/11/2017  19/12/2017       6.0   \n",
       "...      ...       ...             ...         ...         ...       ...   \n",
       "1570     2.9      1.09      Seychelles  02/08/2017  30/09/2017      13.0   \n",
       "1896     2.6      1.05             USA  09/04/2018  30/06/2018       7.0   \n",
       "1803     3.0      1.02         Estonia  20/11/2017  20/12/2017       9.0   \n",
       "80       4.3      1.01     Switzerland  27/12/2018  27/03/2019      20.0   \n",
       "1948     2.7      1.01           Chile  15/08/2018  30/11/2018       6.0   \n",
       "\n",
       "      hasGithub  hasReddit  platform      coinNum  minInvestment  \\\n",
       "383           1          1  Ethereum  210000000.0              0   \n",
       "39            1          1  Ethereum     210000.0              1   \n",
       "53            0          1  Ethereum      86780.0              1   \n",
       "2162          0          0  Ethereum   10000000.0              1   \n",
       "2244          0          0  Ethereum     500000.0              0   \n",
       "...         ...        ...       ...          ...            ...   \n",
       "1570          0          1  Ethereum   98000000.0              0   \n",
       "1896          1          1  Ethereum   17000000.0              0   \n",
       "1803          0          0  Ethereum   12000000.0              0   \n",
       "80            1          1  Ethereum   45000000.0              1   \n",
       "1948          0          0   Bitcoin   20000000.0              0   \n",
       "\n",
       "      distributedPercentage  \n",
       "383                    0.84  \n",
       "39                     0.70  \n",
       "53                     0.60  \n",
       "2162                   0.20  \n",
       "2244                   0.74  \n",
       "...                     ...  \n",
       "1570                   0.90  \n",
       "1896                   0.23  \n",
       "1803                   0.50  \n",
       "80                     0.45  \n",
       "1948                   0.34  \n",
       "\n",
       "[273 rows x 16 columns]"
      ]
     },
     "execution_count": 151,
     "metadata": {},
     "output_type": "execute_result"
    }
   ],
   "source": [
    "df[df.priceUSD>1].sort_values(by='priceUSD', ascending=False)"
   ]
  },
  {
   "cell_type": "code",
   "execution_count": 152,
   "metadata": {},
   "outputs": [
    {
     "data": {
      "text/plain": [
       "'01/01/2018'"
      ]
     },
     "execution_count": 152,
     "metadata": {},
     "output_type": "execute_result"
    }
   ],
   "source": [
    "df.startDate.min()"
   ]
  },
  {
   "cell_type": "code",
   "execution_count": 153,
   "metadata": {},
   "outputs": [
    {
     "data": {
      "text/plain": [
       "'31/12/2018'"
      ]
     },
     "execution_count": 153,
     "metadata": {},
     "output_type": "execute_result"
    }
   ],
   "source": [
    "df.startDate.max()"
   ]
  },
  {
   "cell_type": "code",
   "execution_count": 154,
   "metadata": {},
   "outputs": [
    {
     "data": {
      "text/plain": [
       "'01/01/2018'"
      ]
     },
     "execution_count": 154,
     "metadata": {},
     "output_type": "execute_result"
    }
   ],
   "source": [
    "df.endDate.min()"
   ]
  },
  {
   "cell_type": "code",
   "execution_count": 155,
   "metadata": {},
   "outputs": [
    {
     "data": {
      "text/plain": [
       "'31/12/2019'"
      ]
     },
     "execution_count": 155,
     "metadata": {},
     "output_type": "execute_result"
    }
   ],
   "source": [
    "df.endDate.max()"
   ]
  },
  {
   "cell_type": "code",
   "execution_count": 156,
   "metadata": {},
   "outputs": [
    {
     "data": {
      "text/plain": [
       "405"
      ]
     },
     "execution_count": 156,
     "metadata": {},
     "output_type": "execute_result"
    }
   ],
   "source": [
    "df.isna().sum(axis=1).sum()"
   ]
  },
  {
   "cell_type": "code",
   "execution_count": 157,
   "metadata": {},
   "outputs": [
    {
     "data": {
      "text/plain": [
       "ID                         0\n",
       "success                    0\n",
       "brandSlogan                0\n",
       "hasVideo                   0\n",
       "rating                     0\n",
       "priceUSD                 180\n",
       "countryRegion             71\n",
       "startDate                  0\n",
       "endDate                    0\n",
       "teamSize                 154\n",
       "hasGithub                  0\n",
       "hasReddit                  0\n",
       "platform                   0\n",
       "coinNum                    0\n",
       "minInvestment              0\n",
       "distributedPercentage      0\n",
       "dtype: int64"
      ]
     },
     "execution_count": 157,
     "metadata": {},
     "output_type": "execute_result"
    }
   ],
   "source": [
    "df.isna().sum()"
   ]
  },
  {
   "cell_type": "code",
   "execution_count": 158,
   "metadata": {
    "id": "Cya3mYJUX0Gb"
   },
   "outputs": [],
   "source": [
    "df1=df.copy()"
   ]
  },
  {
   "cell_type": "code",
   "execution_count": 159,
   "metadata": {
    "id": "zbtWOt14X_Sd"
   },
   "outputs": [],
   "source": [
    "df1=df1.dropna()"
   ]
  },
  {
   "cell_type": "markdown",
   "metadata": {},
   "source": [
    "## Categorical variables"
   ]
  },
  {
   "cell_type": "markdown",
   "metadata": {},
   "source": [
    "### Binary"
   ]
  },
  {
   "cell_type": "code",
   "execution_count": 160,
   "metadata": {},
   "outputs": [
    {
     "name": "stdout",
     "output_type": "stream",
     "text": [
      "['N' 'Y']\n",
      "[1 0]\n",
      "[1 0]\n",
      "[1 0]\n",
      "[0 1]\n"
     ]
    }
   ],
   "source": [
    "col=[1,3,10,11,14]\n",
    "for x in col:\n",
    "    print(pd.unique(df[df.columns[x]]))"
   ]
  },
  {
   "cell_type": "code",
   "execution_count": 161,
   "metadata": {},
   "outputs": [
    {
     "data": {
      "text/plain": [
       "<Axes: xlabel='success'>"
      ]
     },
     "execution_count": 161,
     "metadata": {},
     "output_type": "execute_result"
    },
    {
     "data": {
      "image/png": "[encoded data removed]",
      "text/plain": [
       "<Figure size 640x480 with 1 Axes>"
      ]
     },
     "metadata": {},
     "output_type": "display_data"
    }
   ],
   "source": [
    "df[df.columns[1]].value_counts(ascending=True).plot.bar()"
   ]
  },
  {
   "cell_type": "code",
   "execution_count": 162,
   "metadata": {
    "scrolled": true
   },
   "outputs": [
    {
     "data": {
      "image/png": "[encoded data removed]",
      "text/plain": [
       "<Figure size 640x480 with 1 Axes>"
      ]
     },
     "metadata": {},
     "output_type": "display_data"
    },
    {
     "data": {
      "image/png": "[encoded data removed]",
      "text/plain": [
       "<Figure size 640x480 with 1 Axes>"
      ]
     },
     "metadata": {},
     "output_type": "display_data"
    },
    {
     "data": {
      "image/png": "[encoded data removed]",
      "text/plain": [
       "<Figure size 640x480 with 1 Axes>"
      ]
     },
     "metadata": {},
     "output_type": "display_data"
    },
    {
     "data": {
      "image/png": "[encoded data removed]",
      "text/plain": [
       "<Figure size 640x480 with 1 Axes>"
      ]
     },
     "metadata": {},
     "output_type": "display_data"
    },
    {
     "data": {
      "image/png": "[encoded data removed]",
      "text/plain": [
       "<Figure size 640x480 with 1 Axes>"
      ]
     },
     "metadata": {},
     "output_type": "display_data"
    }
   ],
   "source": [
    "for x in col:\n",
    "    df[df.columns[x]].value_counts(ascending=True).plot.bar()\n",
    "    plt.show()"
   ]
  },
  {
   "cell_type": "code",
   "execution_count": 163,
   "metadata": {
    "scrolled": true
   },
   "outputs": [
    {
     "name": "stdout",
     "output_type": "stream",
     "text": [
      "success\n",
      "Y    0.371522\n",
      "N    0.628478\n",
      "Name: count, dtype: float64\n",
      "hasVideo\n",
      "0    0.273943\n",
      "1    0.726057\n",
      "Name: count, dtype: float64\n",
      "hasGithub\n",
      "0    0.422118\n",
      "1    0.577882\n",
      "Name: count, dtype: float64\n",
      "hasReddit\n",
      "0    0.367185\n",
      "1    0.632815\n",
      "Name: count, dtype: float64\n",
      "minInvestment\n",
      "1    0.453198\n",
      "0    0.546802\n",
      "Name: count, dtype: float64\n"
     ]
    }
   ],
   "source": [
    "for x in col:\n",
    "    print(df[df.columns[x]].value_counts(ascending=True)/df[df.columns[x]].value_counts(ascending=True).sum())"
   ]
  },
  {
   "cell_type": "markdown",
   "metadata": {},
   "source": [
    "### Polytomous"
   ]
  },
  {
   "cell_type": "code",
   "execution_count": 164,
   "metadata": {},
   "outputs": [
    {
     "data": {
      "text/plain": [
       "113"
      ]
     },
     "execution_count": 164,
     "metadata": {},
     "output_type": "execute_result"
    }
   ],
   "source": [
    "len(np.sort(df1.platform.unique()))"
   ]
  },
  {
   "cell_type": "markdown",
   "metadata": {},
   "source": [
    "## Numeric variables"
   ]
  },
  {
   "cell_type": "code",
   "execution_count": 165,
   "metadata": {
    "id": "CaeltuGxwo7o"
   },
   "outputs": [],
   "source": [
    "numeric_in=[4,5,9,13,15]"
   ]
  },
  {
   "cell_type": "code",
   "execution_count": 166,
   "metadata": {},
   "outputs": [
    {
     "data": {
      "text/html": [
       "<div>\n",
       "<style scoped>\n",
       "    .dataframe tbody tr th:only-of-type {\n",
       "        vertical-align: middle;\n",
       "    }\n",
       "\n",
       "    .dataframe tbody tr th {\n",
       "        vertical-align: top;\n",
       "    }\n",
       "\n",
       "    .dataframe thead th {\n",
       "        text-align: right;\n",
       "    }\n",
       "</style>\n",
       "<table border=\"1\" class=\"dataframe\">\n",
       "  <thead>\n",
       "    <tr style=\"text-align: right;\">\n",
       "      <th></th>\n",
       "      <th>ID</th>\n",
       "      <th>hasVideo</th>\n",
       "      <th>rating</th>\n",
       "      <th>priceUSD</th>\n",
       "      <th>teamSize</th>\n",
       "      <th>hasGithub</th>\n",
       "      <th>hasReddit</th>\n",
       "      <th>coinNum</th>\n",
       "      <th>minInvestment</th>\n",
       "      <th>distributedPercentage</th>\n",
       "    </tr>\n",
       "  </thead>\n",
       "  <tbody>\n",
       "    <tr>\n",
       "      <th>ID</th>\n",
       "      <td>1.000000</td>\n",
       "      <td>-0.445079</td>\n",
       "      <td>-0.859638</td>\n",
       "      <td>-0.023679</td>\n",
       "      <td>-0.366255</td>\n",
       "      <td>-0.491958</td>\n",
       "      <td>-0.513748</td>\n",
       "      <td>0.008265</td>\n",
       "      <td>-0.212943</td>\n",
       "      <td>-0.007035</td>\n",
       "    </tr>\n",
       "    <tr>\n",
       "      <th>hasVideo</th>\n",
       "      <td>-0.445079</td>\n",
       "      <td>1.000000</td>\n",
       "      <td>0.431187</td>\n",
       "      <td>0.011446</td>\n",
       "      <td>0.239843</td>\n",
       "      <td>0.260016</td>\n",
       "      <td>0.268548</td>\n",
       "      <td>0.011675</td>\n",
       "      <td>0.098436</td>\n",
       "      <td>0.010874</td>\n",
       "    </tr>\n",
       "    <tr>\n",
       "      <th>rating</th>\n",
       "      <td>-0.859638</td>\n",
       "      <td>0.431187</td>\n",
       "      <td>1.000000</td>\n",
       "      <td>0.029387</td>\n",
       "      <td>0.408729</td>\n",
       "      <td>0.463706</td>\n",
       "      <td>0.471763</td>\n",
       "      <td>-0.009490</td>\n",
       "      <td>0.172905</td>\n",
       "      <td>0.006445</td>\n",
       "    </tr>\n",
       "    <tr>\n",
       "      <th>priceUSD</th>\n",
       "      <td>-0.023679</td>\n",
       "      <td>0.011446</td>\n",
       "      <td>0.029387</td>\n",
       "      <td>1.000000</td>\n",
       "      <td>0.008255</td>\n",
       "      <td>0.016102</td>\n",
       "      <td>0.014013</td>\n",
       "      <td>-0.000505</td>\n",
       "      <td>-0.018017</td>\n",
       "      <td>-0.000373</td>\n",
       "    </tr>\n",
       "    <tr>\n",
       "      <th>teamSize</th>\n",
       "      <td>-0.366255</td>\n",
       "      <td>0.239843</td>\n",
       "      <td>0.408729</td>\n",
       "      <td>0.008255</td>\n",
       "      <td>1.000000</td>\n",
       "      <td>0.194875</td>\n",
       "      <td>0.220047</td>\n",
       "      <td>-0.013359</td>\n",
       "      <td>0.092922</td>\n",
       "      <td>-0.021182</td>\n",
       "    </tr>\n",
       "    <tr>\n",
       "      <th>hasGithub</th>\n",
       "      <td>-0.491958</td>\n",
       "      <td>0.260016</td>\n",
       "      <td>0.463706</td>\n",
       "      <td>0.016102</td>\n",
       "      <td>0.194875</td>\n",
       "      <td>1.000000</td>\n",
       "      <td>0.346881</td>\n",
       "      <td>0.016948</td>\n",
       "      <td>0.149801</td>\n",
       "      <td>0.016208</td>\n",
       "    </tr>\n",
       "    <tr>\n",
       "      <th>hasReddit</th>\n",
       "      <td>-0.513748</td>\n",
       "      <td>0.268548</td>\n",
       "      <td>0.471763</td>\n",
       "      <td>0.014013</td>\n",
       "      <td>0.220047</td>\n",
       "      <td>0.346881</td>\n",
       "      <td>1.000000</td>\n",
       "      <td>0.014728</td>\n",
       "      <td>0.119300</td>\n",
       "      <td>0.012720</td>\n",
       "    </tr>\n",
       "    <tr>\n",
       "      <th>coinNum</th>\n",
       "      <td>0.008265</td>\n",
       "      <td>0.011675</td>\n",
       "      <td>-0.009490</td>\n",
       "      <td>-0.000505</td>\n",
       "      <td>-0.013359</td>\n",
       "      <td>0.016948</td>\n",
       "      <td>0.014728</td>\n",
       "      <td>1.000000</td>\n",
       "      <td>-0.019142</td>\n",
       "      <td>-0.000663</td>\n",
       "    </tr>\n",
       "    <tr>\n",
       "      <th>minInvestment</th>\n",
       "      <td>-0.212943</td>\n",
       "      <td>0.098436</td>\n",
       "      <td>0.172905</td>\n",
       "      <td>-0.018017</td>\n",
       "      <td>0.092922</td>\n",
       "      <td>0.149801</td>\n",
       "      <td>0.119300</td>\n",
       "      <td>-0.019142</td>\n",
       "      <td>1.000000</td>\n",
       "      <td>-0.021615</td>\n",
       "    </tr>\n",
       "    <tr>\n",
       "      <th>distributedPercentage</th>\n",
       "      <td>-0.007035</td>\n",
       "      <td>0.010874</td>\n",
       "      <td>0.006445</td>\n",
       "      <td>-0.000373</td>\n",
       "      <td>-0.021182</td>\n",
       "      <td>0.016208</td>\n",
       "      <td>0.012720</td>\n",
       "      <td>-0.000663</td>\n",
       "      <td>-0.021615</td>\n",
       "      <td>1.000000</td>\n",
       "    </tr>\n",
       "  </tbody>\n",
       "</table>\n",
       "</div>"
      ],
      "text/plain": [
       "                             ID  hasVideo    rating  priceUSD  teamSize  \\\n",
       "ID                     1.000000 -0.445079 -0.859638 -0.023679 -0.366255   \n",
       "hasVideo              -0.445079  1.000000  0.431187  0.011446  0.239843   \n",
       "rating                -0.859638  0.431187  1.000000  0.029387  0.408729   \n",
       "priceUSD              -0.023679  0.011446  0.029387  1.000000  0.008255   \n",
       "teamSize              -0.366255  0.239843  0.408729  0.008255  1.000000   \n",
       "hasGithub             -0.491958  0.260016  0.463706  0.016102  0.194875   \n",
       "hasReddit             -0.513748  0.268548  0.471763  0.014013  0.220047   \n",
       "coinNum                0.008265  0.011675 -0.009490 -0.000505 -0.013359   \n",
       "minInvestment         -0.212943  0.098436  0.172905 -0.018017  0.092922   \n",
       "distributedPercentage -0.007035  0.010874  0.006445 -0.000373 -0.021182   \n",
       "\n",
       "                       hasGithub  hasReddit   coinNum  minInvestment  \\\n",
       "ID                     -0.491958  -0.513748  0.008265      -0.212943   \n",
       "hasVideo                0.260016   0.268548  0.011675       0.098436   \n",
       "rating                  0.463706   0.471763 -0.009490       0.172905   \n",
       "priceUSD                0.016102   0.014013 -0.000505      -0.018017   \n",
       "teamSize                0.194875   0.220047 -0.013359       0.092922   \n",
       "hasGithub               1.000000   0.346881  0.016948       0.149801   \n",
       "hasReddit               0.346881   1.000000  0.014728       0.119300   \n",
       "coinNum                 0.016948   0.014728  1.000000      -0.019142   \n",
       "minInvestment           0.149801   0.119300 -0.019142       1.000000   \n",
       "distributedPercentage   0.016208   0.012720 -0.000663      -0.021615   \n",
       "\n",
       "                       distributedPercentage  \n",
       "ID                                 -0.007035  \n",
       "hasVideo                            0.010874  \n",
       "rating                              0.006445  \n",
       "priceUSD                           -0.000373  \n",
       "teamSize                           -0.021182  \n",
       "hasGithub                           0.016208  \n",
       "hasReddit                           0.012720  \n",
       "coinNum                            -0.000663  \n",
       "minInvestment                      -0.021615  \n",
       "distributedPercentage               1.000000  "
      ]
     },
     "execution_count": 166,
     "metadata": {},
     "output_type": "execute_result"
    }
   ],
   "source": [
    "df1.corr(numeric_only=True)"
   ]
  },
  {
   "cell_type": "code",
   "execution_count": 167,
   "metadata": {},
   "outputs": [
    {
     "data": {
      "text/plain": [
       "<Axes: >"
      ]
     },
     "execution_count": 167,
     "metadata": {},
     "output_type": "execute_result"
    },
    {
     "data": {
      "image/png": "[encoded data removed]",
      "text/plain": [
       "<Figure size 640x480 with 2 Axes>"
      ]
     },
     "metadata": {},
     "output_type": "display_data"
    }
   ],
   "source": [
    "sns.heatmap(df.corr(numeric_only=True),annot=True)"
   ]
  },
  {
   "cell_type": "code",
   "execution_count": 168,
   "metadata": {
    "scrolled": true
   },
   "outputs": [
    {
     "data": {
      "text/plain": [
       "Index(['rating', 'priceUSD'], dtype='object')"
      ]
     },
     "execution_count": 168,
     "metadata": {},
     "output_type": "execute_result"
    }
   ],
   "source": [
    "df.columns[[4,5]]"
   ]
  },
  {
   "cell_type": "code",
   "execution_count": 169,
   "metadata": {},
   "outputs": [
    {
     "data": {
      "text/plain": [
       "<Axes: >"
      ]
     },
     "execution_count": 169,
     "metadata": {},
     "output_type": "execute_result"
    },
    {
     "data": {
      "image/png": "[encoded data removed]",
      "text/plain": [
       "<Figure size 640x480 with 1 Axes>"
      ]
     },
     "metadata": {},
     "output_type": "display_data"
    }
   ],
   "source": [
    "df1[df1.distributedPercentage<1].distributedPercentage.plot.box()"
   ]
  },
  {
   "cell_type": "code",
   "execution_count": 170,
   "metadata": {},
   "outputs": [
    {
     "data": {
      "image/png": "[encoded data removed]",
      "text/plain": [
       "<Figure size 640x480 with 1 Axes>"
      ]
     },
     "metadata": {},
     "output_type": "display_data"
    },
    {
     "data": {
      "image/png": "[encoded data removed]",
      "text/plain": [
       "<Figure size 640x480 with 1 Axes>"
      ]
     },
     "metadata": {},
     "output_type": "display_data"
    },
    {
     "data": {
      "image/png": "[encoded data removed]",
      "text/plain": [
       "<Figure size 640x480 with 1 Axes>"
      ]
     },
     "metadata": {},
     "output_type": "display_data"
    },
    {
     "data": {
      "image/png": "[encoded data removed]",
      "text/plain": [
       "<Figure size 640x480 with 1 Axes>"
      ]
     },
     "metadata": {},
     "output_type": "display_data"
    },
    {
     "data": {
      "image/png": "[encoded data removed]",
      "text/plain": [
       "<Figure size 640x480 with 1 Axes>"
      ]
     },
     "metadata": {},
     "output_type": "display_data"
    }
   ],
   "source": [
    "for i in numeric_in:\n",
    "    df1[df1.columns[[i]]].plot.box()\n",
    "    plt.show()"
   ]
  },
  {
   "cell_type": "code",
   "execution_count": 171,
   "metadata": {
    "scrolled": true
   },
   "outputs": [
    {
     "data": {
      "image/png": "[encoded data removed]",
      "text/plain": [
       "<Figure size 640x480 with 1 Axes>"
      ]
     },
     "metadata": {},
     "output_type": "display_data"
    },
    {
     "data": {
      "image/png": "[encoded data removed]",
      "text/plain": [
       "<Figure size 640x480 with 1 Axes>"
      ]
     },
     "metadata": {},
     "output_type": "display_data"
    },
    {
     "data": {
      "image/png": "[encoded data removed]",
      "text/plain": [
       "<Figure size 640x480 with 1 Axes>"
      ]
     },
     "metadata": {},
     "output_type": "display_data"
    },
    {
     "data": {
      "image/png": "[encoded data removed]",
      "text/plain": [
       "<Figure size 640x480 with 1 Axes>"
      ]
     },
     "metadata": {},
     "output_type": "display_data"
    },
    {
     "data": {
      "image/png": "[encoded data removed]",
      "text/plain": [
       "<Figure size 640x480 with 1 Axes>"
      ]
     },
     "metadata": {},
     "output_type": "display_data"
    }
   ],
   "source": [
    "for i in numeric_in:\n",
    "    df1.plot.scatter(x=df1.columns[i],y='success')\n",
    "    plt.show()"
   ]
  },
  {
   "cell_type": "code",
   "execution_count": 172,
   "metadata": {},
   "outputs": [],
   "source": [
    "df1['TotalInv']=df1['priceUSD']*df1['coinNum']"
   ]
  },
  {
   "cell_type": "code",
   "execution_count": 173,
   "metadata": {},
   "outputs": [
    {
     "data": {
      "text/html": [
       "<div>\n",
       "<style scoped>\n",
       "    .dataframe tbody tr th:only-of-type {\n",
       "        vertical-align: middle;\n",
       "    }\n",
       "\n",
       "    .dataframe tbody tr th {\n",
       "        vertical-align: top;\n",
       "    }\n",
       "\n",
       "    .dataframe thead th {\n",
       "        text-align: right;\n",
       "    }\n",
       "</style>\n",
       "<table border=\"1\" class=\"dataframe\">\n",
       "  <thead>\n",
       "    <tr style=\"text-align: right;\">\n",
       "      <th></th>\n",
       "      <th>TotalInv</th>\n",
       "    </tr>\n",
       "  </thead>\n",
       "  <tbody>\n",
       "    <tr>\n",
       "      <th>count</th>\n",
       "      <td>2.392000e+03</td>\n",
       "    </tr>\n",
       "    <tr>\n",
       "      <th>mean</th>\n",
       "      <td>1.159093e+11</td>\n",
       "    </tr>\n",
       "    <tr>\n",
       "      <th>std</th>\n",
       "      <td>4.700977e+12</td>\n",
       "    </tr>\n",
       "    <tr>\n",
       "      <th>min</th>\n",
       "      <td>0.000000e+00</td>\n",
       "    </tr>\n",
       "    <tr>\n",
       "      <th>25%</th>\n",
       "      <td>8.000000e+06</td>\n",
       "    </tr>\n",
       "    <tr>\n",
       "      <th>50%</th>\n",
       "      <td>2.325000e+07</td>\n",
       "    </tr>\n",
       "    <tr>\n",
       "      <th>75%</th>\n",
       "      <td>5.250000e+07</td>\n",
       "    </tr>\n",
       "    <tr>\n",
       "      <th>max</th>\n",
       "      <td>2.261908e+14</td>\n",
       "    </tr>\n",
       "  </tbody>\n",
       "</table>\n",
       "</div>"
      ],
      "text/plain": [
       "           TotalInv\n",
       "count  2.392000e+03\n",
       "mean   1.159093e+11\n",
       "std    4.700977e+12\n",
       "min    0.000000e+00\n",
       "25%    8.000000e+06\n",
       "50%    2.325000e+07\n",
       "75%    5.250000e+07\n",
       "max    2.261908e+14"
      ]
     },
     "execution_count": 173,
     "metadata": {},
     "output_type": "execute_result"
    }
   ],
   "source": [
    "df1[df1.columns[[-1]]].describe()"
   ]
  },
  {
   "cell_type": "code",
   "execution_count": 174,
   "metadata": {},
   "outputs": [
    {
     "data": {
      "text/plain": [
       "True"
      ]
     },
     "execution_count": 174,
     "metadata": {},
     "output_type": "execute_result"
    }
   ],
   "source": [
    "3.0%1==0"
   ]
  },
  {
   "cell_type": "code",
   "execution_count": 277,
   "metadata": {
    "scrolled": true
   },
   "outputs": [
    {
     "data": {
      "text/html": [
       "<div>\n",
       "<style scoped>\n",
       "    .dataframe tbody tr th:only-of-type {\n",
       "        vertical-align: middle;\n",
       "    }\n",
       "\n",
       "    .dataframe tbody tr th {\n",
       "        vertical-align: top;\n",
       "    }\n",
       "\n",
       "    .dataframe thead th {\n",
       "        text-align: right;\n",
       "    }\n",
       "</style>\n",
       "<table border=\"1\" class=\"dataframe\">\n",
       "  <thead>\n",
       "    <tr style=\"text-align: right;\">\n",
       "      <th></th>\n",
       "      <th>success</th>\n",
       "      <th>hasVideo</th>\n",
       "      <th>rating</th>\n",
       "      <th>priceUSD</th>\n",
       "      <th>countryRegion</th>\n",
       "      <th>teamSize</th>\n",
       "      <th>hasGithub</th>\n",
       "      <th>hasReddit</th>\n",
       "      <th>platform</th>\n",
       "      <th>coinNum</th>\n",
       "      <th>minInvestment</th>\n",
       "      <th>distributedPercentage</th>\n",
       "      <th>TotalInv</th>\n",
       "      <th>time</th>\n",
       "    </tr>\n",
       "  </thead>\n",
       "  <tbody>\n",
       "    <tr>\n",
       "      <th>39</th>\n",
       "      <td>1</td>\n",
       "      <td>1</td>\n",
       "      <td>4.4</td>\n",
       "      <td>1000.00</td>\n",
       "      <td>Cayman Islands</td>\n",
       "      <td>32.0</td>\n",
       "      <td>1</td>\n",
       "      <td>1</td>\n",
       "      <td>Ethereum</td>\n",
       "      <td>2.100000e+05</td>\n",
       "      <td>1</td>\n",
       "      <td>0.70</td>\n",
       "      <td>2.100000e+08</td>\n",
       "      <td>362</td>\n",
       "    </tr>\n",
       "    <tr>\n",
       "      <th>53</th>\n",
       "      <td>1</td>\n",
       "      <td>1</td>\n",
       "      <td>3.3</td>\n",
       "      <td>888.88</td>\n",
       "      <td>Liechtenstein</td>\n",
       "      <td>25.0</td>\n",
       "      <td>0</td>\n",
       "      <td>1</td>\n",
       "      <td>Ethereum</td>\n",
       "      <td>8.678000e+04</td>\n",
       "      <td>1</td>\n",
       "      <td>0.60</td>\n",
       "      <td>7.713701e+07</td>\n",
       "      <td>117</td>\n",
       "    </tr>\n",
       "    <tr>\n",
       "      <th>2162</th>\n",
       "      <td>0</td>\n",
       "      <td>0</td>\n",
       "      <td>2.6</td>\n",
       "      <td>647.74</td>\n",
       "      <td>USA</td>\n",
       "      <td>17.0</td>\n",
       "      <td>0</td>\n",
       "      <td>0</td>\n",
       "      <td>Ethereum</td>\n",
       "      <td>1.000000e+07</td>\n",
       "      <td>1</td>\n",
       "      <td>0.20</td>\n",
       "      <td>6.477400e+09</td>\n",
       "      <td>153</td>\n",
       "    </tr>\n",
       "    <tr>\n",
       "      <th>2244</th>\n",
       "      <td>0</td>\n",
       "      <td>1</td>\n",
       "      <td>2.4</td>\n",
       "      <td>642.40</td>\n",
       "      <td>USA</td>\n",
       "      <td>6.0</td>\n",
       "      <td>0</td>\n",
       "      <td>0</td>\n",
       "      <td>Ethereum</td>\n",
       "      <td>5.000000e+05</td>\n",
       "      <td>0</td>\n",
       "      <td>0.74</td>\n",
       "      <td>3.212000e+08</td>\n",
       "      <td>21</td>\n",
       "    </tr>\n",
       "    <tr>\n",
       "      <th>2238</th>\n",
       "      <td>0</td>\n",
       "      <td>1</td>\n",
       "      <td>2.4</td>\n",
       "      <td>525.01</td>\n",
       "      <td>Singapore</td>\n",
       "      <td>6.0</td>\n",
       "      <td>1</td>\n",
       "      <td>0</td>\n",
       "      <td>Ethereum</td>\n",
       "      <td>1.000000e+09</td>\n",
       "      <td>1</td>\n",
       "      <td>0.50</td>\n",
       "      <td>5.250100e+11</td>\n",
       "      <td>7</td>\n",
       "    </tr>\n",
       "    <tr>\n",
       "      <th>2082</th>\n",
       "      <td>0</td>\n",
       "      <td>0</td>\n",
       "      <td>2.6</td>\n",
       "      <td>409.17</td>\n",
       "      <td>British Virgin Islands</td>\n",
       "      <td>23.0</td>\n",
       "      <td>0</td>\n",
       "      <td>1</td>\n",
       "      <td>Ethereum</td>\n",
       "      <td>9.894000e+10</td>\n",
       "      <td>0</td>\n",
       "      <td>0.99</td>\n",
       "      <td>4.048328e+13</td>\n",
       "      <td>168</td>\n",
       "    </tr>\n",
       "    <tr>\n",
       "      <th>1288</th>\n",
       "      <td>0</td>\n",
       "      <td>1</td>\n",
       "      <td>3.2</td>\n",
       "      <td>295.34</td>\n",
       "      <td>Estonia</td>\n",
       "      <td>18.0</td>\n",
       "      <td>1</td>\n",
       "      <td>0</td>\n",
       "      <td>Ethereum</td>\n",
       "      <td>4.536000e+07</td>\n",
       "      <td>0</td>\n",
       "      <td>0.81</td>\n",
       "      <td>1.339662e+10</td>\n",
       "      <td>60</td>\n",
       "    </tr>\n",
       "    <tr>\n",
       "      <th>684</th>\n",
       "      <td>0</td>\n",
       "      <td>1</td>\n",
       "      <td>3.9</td>\n",
       "      <td>295.34</td>\n",
       "      <td>UK</td>\n",
       "      <td>27.0</td>\n",
       "      <td>0</td>\n",
       "      <td>1</td>\n",
       "      <td>Ethereum</td>\n",
       "      <td>1.250000e+08</td>\n",
       "      <td>1</td>\n",
       "      <td>0.25</td>\n",
       "      <td>3.691750e+10</td>\n",
       "      <td>91</td>\n",
       "    </tr>\n",
       "    <tr>\n",
       "      <th>2527</th>\n",
       "      <td>0</td>\n",
       "      <td>0</td>\n",
       "      <td>2.2</td>\n",
       "      <td>237.49</td>\n",
       "      <td>Japan</td>\n",
       "      <td>4.0</td>\n",
       "      <td>0</td>\n",
       "      <td>0</td>\n",
       "      <td>Ethereum</td>\n",
       "      <td>1.500000e+05</td>\n",
       "      <td>0</td>\n",
       "      <td>0.50</td>\n",
       "      <td>3.562350e+07</td>\n",
       "      <td>14</td>\n",
       "    </tr>\n",
       "    <tr>\n",
       "      <th>1596</th>\n",
       "      <td>1</td>\n",
       "      <td>0</td>\n",
       "      <td>3.0</td>\n",
       "      <td>230.77</td>\n",
       "      <td>Australia</td>\n",
       "      <td>20.0</td>\n",
       "      <td>1</td>\n",
       "      <td>1</td>\n",
       "      <td>Ethereum</td>\n",
       "      <td>7.000000e+07</td>\n",
       "      <td>0</td>\n",
       "      <td>0.70</td>\n",
       "      <td>1.615390e+10</td>\n",
       "      <td>31</td>\n",
       "    </tr>\n",
       "    <tr>\n",
       "      <th>1109</th>\n",
       "      <td>0</td>\n",
       "      <td>1</td>\n",
       "      <td>3.3</td>\n",
       "      <td>214.29</td>\n",
       "      <td>UK</td>\n",
       "      <td>16.0</td>\n",
       "      <td>1</td>\n",
       "      <td>1</td>\n",
       "      <td>Ethereum</td>\n",
       "      <td>1.200000e+08</td>\n",
       "      <td>1</td>\n",
       "      <td>0.75</td>\n",
       "      <td>2.571480e+10</td>\n",
       "      <td>378</td>\n",
       "    </tr>\n",
       "    <tr>\n",
       "      <th>1124</th>\n",
       "      <td>1</td>\n",
       "      <td>1</td>\n",
       "      <td>3.2</td>\n",
       "      <td>189.00</td>\n",
       "      <td>Estonia</td>\n",
       "      <td>5.0</td>\n",
       "      <td>1</td>\n",
       "      <td>1</td>\n",
       "      <td>Ethereum</td>\n",
       "      <td>6.400000e+07</td>\n",
       "      <td>1</td>\n",
       "      <td>0.50</td>\n",
       "      <td>1.209600e+10</td>\n",
       "      <td>61</td>\n",
       "    </tr>\n",
       "    <tr>\n",
       "      <th>900</th>\n",
       "      <td>0</td>\n",
       "      <td>1</td>\n",
       "      <td>3.4</td>\n",
       "      <td>170.95</td>\n",
       "      <td>Russia</td>\n",
       "      <td>9.0</td>\n",
       "      <td>1</td>\n",
       "      <td>1</td>\n",
       "      <td>Ethereum</td>\n",
       "      <td>3.000000e+08</td>\n",
       "      <td>1</td>\n",
       "      <td>0.60</td>\n",
       "      <td>5.128500e+10</td>\n",
       "      <td>91</td>\n",
       "    </tr>\n",
       "    <tr>\n",
       "      <th>2517</th>\n",
       "      <td>0</td>\n",
       "      <td>1</td>\n",
       "      <td>2.2</td>\n",
       "      <td>129.74</td>\n",
       "      <td>Switzerland</td>\n",
       "      <td>6.0</td>\n",
       "      <td>0</td>\n",
       "      <td>0</td>\n",
       "      <td>others</td>\n",
       "      <td>2.200000e+06</td>\n",
       "      <td>0</td>\n",
       "      <td>0.22</td>\n",
       "      <td>2.854280e+08</td>\n",
       "      <td>183</td>\n",
       "    </tr>\n",
       "    <tr>\n",
       "      <th>874</th>\n",
       "      <td>1</td>\n",
       "      <td>1</td>\n",
       "      <td>3.6</td>\n",
       "      <td>124.00</td>\n",
       "      <td>Cyprus</td>\n",
       "      <td>11.0</td>\n",
       "      <td>1</td>\n",
       "      <td>1</td>\n",
       "      <td>Ethereum</td>\n",
       "      <td>1.600000e+05</td>\n",
       "      <td>0</td>\n",
       "      <td>0.64</td>\n",
       "      <td>1.984000e+07</td>\n",
       "      <td>149</td>\n",
       "    </tr>\n",
       "  </tbody>\n",
       "</table>\n",
       "</div>"
      ],
      "text/plain": [
       "      success  hasVideo  rating  priceUSD           countryRegion  teamSize  \\\n",
       "39          1         1     4.4   1000.00          Cayman Islands      32.0   \n",
       "53          1         1     3.3    888.88           Liechtenstein      25.0   \n",
       "2162        0         0     2.6    647.74                     USA      17.0   \n",
       "2244        0         1     2.4    642.40                     USA       6.0   \n",
       "2238        0         1     2.4    525.01               Singapore       6.0   \n",
       "2082        0         0     2.6    409.17  British Virgin Islands      23.0   \n",
       "1288        0         1     3.2    295.34                 Estonia      18.0   \n",
       "684         0         1     3.9    295.34                      UK      27.0   \n",
       "2527        0         0     2.2    237.49                   Japan       4.0   \n",
       "1596        1         0     3.0    230.77               Australia      20.0   \n",
       "1109        0         1     3.3    214.29                      UK      16.0   \n",
       "1124        1         1     3.2    189.00                 Estonia       5.0   \n",
       "900         0         1     3.4    170.95                  Russia       9.0   \n",
       "2517        0         1     2.2    129.74             Switzerland       6.0   \n",
       "874         1         1     3.6    124.00                  Cyprus      11.0   \n",
       "\n",
       "      hasGithub  hasReddit  platform       coinNum  minInvestment  \\\n",
       "39            1          1  Ethereum  2.100000e+05              1   \n",
       "53            0          1  Ethereum  8.678000e+04              1   \n",
       "2162          0          0  Ethereum  1.000000e+07              1   \n",
       "2244          0          0  Ethereum  5.000000e+05              0   \n",
       "2238          1          0  Ethereum  1.000000e+09              1   \n",
       "2082          0          1  Ethereum  9.894000e+10              0   \n",
       "1288          1          0  Ethereum  4.536000e+07              0   \n",
       "684           0          1  Ethereum  1.250000e+08              1   \n",
       "2527          0          0  Ethereum  1.500000e+05              0   \n",
       "1596          1          1  Ethereum  7.000000e+07              0   \n",
       "1109          1          1  Ethereum  1.200000e+08              1   \n",
       "1124          1          1  Ethereum  6.400000e+07              1   \n",
       "900           1          1  Ethereum  3.000000e+08              1   \n",
       "2517          0          0    others  2.200000e+06              0   \n",
       "874           1          1  Ethereum  1.600000e+05              0   \n",
       "\n",
       "      distributedPercentage      TotalInv  time  \n",
       "39                     0.70  2.100000e+08   362  \n",
       "53                     0.60  7.713701e+07   117  \n",
       "2162                   0.20  6.477400e+09   153  \n",
       "2244                   0.74  3.212000e+08    21  \n",
       "2238                   0.50  5.250100e+11     7  \n",
       "2082                   0.99  4.048328e+13   168  \n",
       "1288                   0.81  1.339662e+10    60  \n",
       "684                    0.25  3.691750e+10    91  \n",
       "2527                   0.50  3.562350e+07    14  \n",
       "1596                   0.70  1.615390e+10    31  \n",
       "1109                   0.75  2.571480e+10   378  \n",
       "1124                   0.50  1.209600e+10    61  \n",
       "900                    0.60  5.128500e+10    91  \n",
       "2517                   0.22  2.854280e+08   183  \n",
       "874                    0.64  1.984000e+07   149  "
      ]
     },
     "execution_count": 277,
     "metadata": {},
     "output_type": "execute_result"
    }
   ],
   "source": [
    "df1.sort_values(by='priceUSD',ascending=False).head(15)"
   ]
  },
  {
   "cell_type": "code",
   "execution_count": 276,
   "metadata": {},
   "outputs": [],
   "source": [
    "df1.drop(labels=df1[df1.priceUSD==df1.priceUSD.max()].index,axis=0,inplace=True)"
   ]
  },
  {
   "cell_type": "code",
   "execution_count": 177,
   "metadata": {},
   "outputs": [
    {
     "data": {
      "text/html": [
       "<div>\n",
       "<style scoped>\n",
       "    .dataframe tbody tr th:only-of-type {\n",
       "        vertical-align: middle;\n",
       "    }\n",
       "\n",
       "    .dataframe tbody tr th {\n",
       "        vertical-align: top;\n",
       "    }\n",
       "\n",
       "    .dataframe thead th {\n",
       "        text-align: right;\n",
       "    }\n",
       "</style>\n",
       "<table border=\"1\" class=\"dataframe\">\n",
       "  <thead>\n",
       "    <tr style=\"text-align: right;\">\n",
       "      <th></th>\n",
       "      <th>ID</th>\n",
       "      <th>success</th>\n",
       "      <th>brandSlogan</th>\n",
       "      <th>hasVideo</th>\n",
       "      <th>rating</th>\n",
       "      <th>priceUSD</th>\n",
       "      <th>countryRegion</th>\n",
       "      <th>startDate</th>\n",
       "      <th>endDate</th>\n",
       "      <th>teamSize</th>\n",
       "      <th>hasGithub</th>\n",
       "      <th>hasReddit</th>\n",
       "      <th>platform</th>\n",
       "      <th>coinNum</th>\n",
       "      <th>minInvestment</th>\n",
       "      <th>distributedPercentage</th>\n",
       "      <th>TotalInv</th>\n",
       "    </tr>\n",
       "  </thead>\n",
       "  <tbody>\n",
       "    <tr>\n",
       "      <th>0</th>\n",
       "      <td>1</td>\n",
       "      <td>N</td>\n",
       "      <td>Is One of Its Kind ERC-20 Decentralized Stable...</td>\n",
       "      <td>1</td>\n",
       "      <td>4.0</td>\n",
       "      <td>30.00</td>\n",
       "      <td>Singapore</td>\n",
       "      <td>01/10/2019</td>\n",
       "      <td>01/10/2019</td>\n",
       "      <td>31.0</td>\n",
       "      <td>1</td>\n",
       "      <td>1</td>\n",
       "      <td>Ethereum</td>\n",
       "      <td>5.099990e+05</td>\n",
       "      <td>0</td>\n",
       "      <td>0.49</td>\n",
       "      <td>1.529997e+07</td>\n",
       "    </tr>\n",
       "    <tr>\n",
       "      <th>1</th>\n",
       "      <td>2</td>\n",
       "      <td>N</td>\n",
       "      <td>The Ultimate Blockchain Gaming Platform</td>\n",
       "      <td>1</td>\n",
       "      <td>4.3</td>\n",
       "      <td>0.13</td>\n",
       "      <td>Malta</td>\n",
       "      <td>07/09/2018</td>\n",
       "      <td>12/10/2018</td>\n",
       "      <td>20.0</td>\n",
       "      <td>1</td>\n",
       "      <td>1</td>\n",
       "      <td>XAYA</td>\n",
       "      <td>2.250000e+08</td>\n",
       "      <td>1</td>\n",
       "      <td>0.41</td>\n",
       "      <td>2.925000e+07</td>\n",
       "    </tr>\n",
       "    <tr>\n",
       "      <th>2</th>\n",
       "      <td>3</td>\n",
       "      <td>N</td>\n",
       "      <td>Simple Automated Investment App Driven by AI &amp; ML</td>\n",
       "      <td>1</td>\n",
       "      <td>4.4</td>\n",
       "      <td>0.01</td>\n",
       "      <td>UK</td>\n",
       "      <td>01/07/2019</td>\n",
       "      <td>30/06/2020</td>\n",
       "      <td>10.0</td>\n",
       "      <td>1</td>\n",
       "      <td>1</td>\n",
       "      <td>Stellar</td>\n",
       "      <td>5.000000e+09</td>\n",
       "      <td>1</td>\n",
       "      <td>0.40</td>\n",
       "      <td>5.000000e+07</td>\n",
       "    </tr>\n",
       "    <tr>\n",
       "      <th>4</th>\n",
       "      <td>5</td>\n",
       "      <td>N</td>\n",
       "      <td>Secure, Interference-Free Communications System</td>\n",
       "      <td>1</td>\n",
       "      <td>4.3</td>\n",
       "      <td>0.03</td>\n",
       "      <td>Mauritius</td>\n",
       "      <td>28/07/2019</td>\n",
       "      <td>30/11/2019</td>\n",
       "      <td>14.0</td>\n",
       "      <td>1</td>\n",
       "      <td>1</td>\n",
       "      <td>Ethereum</td>\n",
       "      <td>5.000000e+09</td>\n",
       "      <td>1</td>\n",
       "      <td>0.50</td>\n",
       "      <td>1.500000e+08</td>\n",
       "    </tr>\n",
       "    <tr>\n",
       "      <th>5</th>\n",
       "      <td>6</td>\n",
       "      <td>N</td>\n",
       "      <td>Blockchain-based Bank Full Eco System WorldWide</td>\n",
       "      <td>1</td>\n",
       "      <td>4.7</td>\n",
       "      <td>0.10</td>\n",
       "      <td>UK</td>\n",
       "      <td>25/02/2020</td>\n",
       "      <td>30/06/2020</td>\n",
       "      <td>43.0</td>\n",
       "      <td>1</td>\n",
       "      <td>1</td>\n",
       "      <td>Ethereum</td>\n",
       "      <td>5.000000e+08</td>\n",
       "      <td>1</td>\n",
       "      <td>0.50</td>\n",
       "      <td>5.000000e+07</td>\n",
       "    </tr>\n",
       "    <tr>\n",
       "      <th>...</th>\n",
       "      <td>...</td>\n",
       "      <td>...</td>\n",
       "      <td>...</td>\n",
       "      <td>...</td>\n",
       "      <td>...</td>\n",
       "      <td>...</td>\n",
       "      <td>...</td>\n",
       "      <td>...</td>\n",
       "      <td>...</td>\n",
       "      <td>...</td>\n",
       "      <td>...</td>\n",
       "      <td>...</td>\n",
       "      <td>...</td>\n",
       "      <td>...</td>\n",
       "      <td>...</td>\n",
       "      <td>...</td>\n",
       "      <td>...</td>\n",
       "    </tr>\n",
       "    <tr>\n",
       "      <th>2737</th>\n",
       "      <td>2738</td>\n",
       "      <td>N</td>\n",
       "      <td>Decentralised Global Index Trading Platform</td>\n",
       "      <td>0</td>\n",
       "      <td>1.3</td>\n",
       "      <td>0.05</td>\n",
       "      <td>Poland</td>\n",
       "      <td>08/03/2018</td>\n",
       "      <td>01/08/2018</td>\n",
       "      <td>1.0</td>\n",
       "      <td>0</td>\n",
       "      <td>0</td>\n",
       "      <td>Ethereum</td>\n",
       "      <td>7.000000e+08</td>\n",
       "      <td>0</td>\n",
       "      <td>0.70</td>\n",
       "      <td>3.500000e+07</td>\n",
       "    </tr>\n",
       "    <tr>\n",
       "      <th>2738</th>\n",
       "      <td>2739</td>\n",
       "      <td>N</td>\n",
       "      <td>The best way to say thank you</td>\n",
       "      <td>0</td>\n",
       "      <td>1.3</td>\n",
       "      <td>1.00</td>\n",
       "      <td>Russia</td>\n",
       "      <td>17/08/2017</td>\n",
       "      <td>05/10/2017</td>\n",
       "      <td>4.0</td>\n",
       "      <td>0</td>\n",
       "      <td>0</td>\n",
       "      <td>Waves</td>\n",
       "      <td>3.500000e+07</td>\n",
       "      <td>0</td>\n",
       "      <td>0.50</td>\n",
       "      <td>3.500000e+07</td>\n",
       "    </tr>\n",
       "    <tr>\n",
       "      <th>2742</th>\n",
       "      <td>2743</td>\n",
       "      <td>N</td>\n",
       "      <td>HorseCoin.</td>\n",
       "      <td>0</td>\n",
       "      <td>1.3</td>\n",
       "      <td>0.04</td>\n",
       "      <td>Belgium</td>\n",
       "      <td>24/02/2018</td>\n",
       "      <td>29/06/2018</td>\n",
       "      <td>6.0</td>\n",
       "      <td>1</td>\n",
       "      <td>1</td>\n",
       "      <td>Ethereum</td>\n",
       "      <td>2.000000e+07</td>\n",
       "      <td>0</td>\n",
       "      <td>0.80</td>\n",
       "      <td>8.000000e+05</td>\n",
       "    </tr>\n",
       "    <tr>\n",
       "      <th>2746</th>\n",
       "      <td>2747</td>\n",
       "      <td>N</td>\n",
       "      <td>A Cryptocurrency Value Chain</td>\n",
       "      <td>0</td>\n",
       "      <td>1.2</td>\n",
       "      <td>1.00</td>\n",
       "      <td>Singapore</td>\n",
       "      <td>07/10/2017</td>\n",
       "      <td>15/10/2017</td>\n",
       "      <td>1.0</td>\n",
       "      <td>0</td>\n",
       "      <td>0</td>\n",
       "      <td>Ethereum</td>\n",
       "      <td>2.000000e+07</td>\n",
       "      <td>0</td>\n",
       "      <td>0.30</td>\n",
       "      <td>2.000000e+07</td>\n",
       "    </tr>\n",
       "    <tr>\n",
       "      <th>2752</th>\n",
       "      <td>2753</td>\n",
       "      <td>N</td>\n",
       "      <td>Cryptography-based digital coin and payment</td>\n",
       "      <td>0</td>\n",
       "      <td>1.4</td>\n",
       "      <td>0.01</td>\n",
       "      <td>USA</td>\n",
       "      <td>10/07/2017</td>\n",
       "      <td>25/08/2017</td>\n",
       "      <td>3.0</td>\n",
       "      <td>0</td>\n",
       "      <td>0</td>\n",
       "      <td>Ethereum</td>\n",
       "      <td>1.500000e+11</td>\n",
       "      <td>0</td>\n",
       "      <td>0.75</td>\n",
       "      <td>1.500000e+09</td>\n",
       "    </tr>\n",
       "  </tbody>\n",
       "</table>\n",
       "<p>2392 rows × 17 columns</p>\n",
       "</div>"
      ],
      "text/plain": [
       "        ID success                                        brandSlogan  \\\n",
       "0        1       N  Is One of Its Kind ERC-20 Decentralized Stable...   \n",
       "1        2       N            The Ultimate Blockchain Gaming Platform   \n",
       "2        3       N  Simple Automated Investment App Driven by AI & ML   \n",
       "4        5       N    Secure, Interference-Free Communications System   \n",
       "5        6       N    Blockchain-based Bank Full Eco System WorldWide   \n",
       "...    ...     ...                                                ...   \n",
       "2737  2738       N        Decentralised Global Index Trading Platform   \n",
       "2738  2739       N                      The best way to say thank you   \n",
       "2742  2743       N                                         HorseCoin.   \n",
       "2746  2747       N                       A Cryptocurrency Value Chain   \n",
       "2752  2753       N        Cryptography-based digital coin and payment   \n",
       "\n",
       "      hasVideo  rating  priceUSD countryRegion   startDate     endDate  \\\n",
       "0            1     4.0     30.00     Singapore  01/10/2019  01/10/2019   \n",
       "1            1     4.3      0.13         Malta  07/09/2018  12/10/2018   \n",
       "2            1     4.4      0.01            UK  01/07/2019  30/06/2020   \n",
       "4            1     4.3      0.03     Mauritius  28/07/2019  30/11/2019   \n",
       "5            1     4.7      0.10            UK  25/02/2020  30/06/2020   \n",
       "...        ...     ...       ...           ...         ...         ...   \n",
       "2737         0     1.3      0.05        Poland  08/03/2018  01/08/2018   \n",
       "2738         0     1.3      1.00        Russia  17/08/2017  05/10/2017   \n",
       "2742         0     1.3      0.04       Belgium  24/02/2018  29/06/2018   \n",
       "2746         0     1.2      1.00     Singapore  07/10/2017  15/10/2017   \n",
       "2752         0     1.4      0.01           USA  10/07/2017  25/08/2017   \n",
       "\n",
       "      teamSize  hasGithub  hasReddit  platform       coinNum  minInvestment  \\\n",
       "0         31.0          1          1  Ethereum  5.099990e+05              0   \n",
       "1         20.0          1          1      XAYA  2.250000e+08              1   \n",
       "2         10.0          1          1   Stellar  5.000000e+09              1   \n",
       "4         14.0          1          1  Ethereum  5.000000e+09              1   \n",
       "5         43.0          1          1  Ethereum  5.000000e+08              1   \n",
       "...        ...        ...        ...       ...           ...            ...   \n",
       "2737       1.0          0          0  Ethereum  7.000000e+08              0   \n",
       "2738       4.0          0          0     Waves  3.500000e+07              0   \n",
       "2742       6.0          1          1  Ethereum  2.000000e+07              0   \n",
       "2746       1.0          0          0  Ethereum  2.000000e+07              0   \n",
       "2752       3.0          0          0  Ethereum  1.500000e+11              0   \n",
       "\n",
       "      distributedPercentage      TotalInv  \n",
       "0                      0.49  1.529997e+07  \n",
       "1                      0.41  2.925000e+07  \n",
       "2                      0.40  5.000000e+07  \n",
       "4                      0.50  1.500000e+08  \n",
       "5                      0.50  5.000000e+07  \n",
       "...                     ...           ...  \n",
       "2737                   0.70  3.500000e+07  \n",
       "2738                   0.50  3.500000e+07  \n",
       "2742                   0.80  8.000000e+05  \n",
       "2746                   0.30  2.000000e+07  \n",
       "2752                   0.75  1.500000e+09  \n",
       "\n",
       "[2392 rows x 17 columns]"
      ]
     },
     "execution_count": 177,
     "metadata": {},
     "output_type": "execute_result"
    }
   ],
   "source": [
    "df1"
   ]
  },
  {
   "cell_type": "code",
   "execution_count": 178,
   "metadata": {
    "scrolled": true
   },
   "outputs": [
    {
     "data": {
      "text/plain": [
       "<Axes: >"
      ]
     },
     "execution_count": 178,
     "metadata": {},
     "output_type": "execute_result"
    },
    {
     "data": {
      "image/png": "[encoded data removed]",
      "text/plain": [
       "<Figure size 640x480 with 1 Axes>"
      ]
     },
     "metadata": {},
     "output_type": "display_data"
    }
   ],
   "source": [
    "sns.heatmap(df.isnull(), cmap='viridis', cbar=False)"
   ]
  },
  {
   "cell_type": "code",
   "execution_count": 179,
   "metadata": {},
   "outputs": [
    {
     "data": {
      "text/plain": [
       "0"
      ]
     },
     "execution_count": 179,
     "metadata": {},
     "output_type": "execute_result"
    }
   ],
   "source": [
    "df1.duplicated().sum()"
   ]
  },
  {
   "cell_type": "code",
   "execution_count": 180,
   "metadata": {},
   "outputs": [
    {
     "data": {
      "text/plain": [
       "0"
      ]
     },
     "execution_count": 180,
     "metadata": {},
     "output_type": "execute_result"
    }
   ],
   "source": [
    "df.isna().product(axis=1).sum()"
   ]
  },
  {
   "cell_type": "code",
   "execution_count": 181,
   "metadata": {
    "colab": {
     "base_uri": "https://localhost:8080/"
    },
    "id": "-bGN1Q3PYSCD",
    "outputId": "47c225c2-6de9-44f3-931f-bc1f356a712f"
   },
   "outputs": [
    {
     "data": {
      "text/plain": [
       "(2392, 17)"
      ]
     },
     "execution_count": 181,
     "metadata": {},
     "output_type": "execute_result"
    }
   ],
   "source": [
    "df1.shape"
   ]
  },
  {
   "cell_type": "code",
   "execution_count": 182,
   "metadata": {
    "colab": {
     "base_uri": "https://localhost:8080/"
    },
    "id": "Mtj2BlhWXNd1",
    "outputId": "538a6fe3-0a34-4861-aa24-18bae27f964f"
   },
   "outputs": [
    {
     "data": {
      "text/html": [
       "<div>\n",
       "<style scoped>\n",
       "    .dataframe tbody tr th:only-of-type {\n",
       "        vertical-align: middle;\n",
       "    }\n",
       "\n",
       "    .dataframe tbody tr th {\n",
       "        vertical-align: top;\n",
       "    }\n",
       "\n",
       "    .dataframe thead th {\n",
       "        text-align: right;\n",
       "    }\n",
       "</style>\n",
       "<table border=\"1\" class=\"dataframe\">\n",
       "  <thead>\n",
       "    <tr style=\"text-align: right;\">\n",
       "      <th></th>\n",
       "      <th>ID</th>\n",
       "      <th>success</th>\n",
       "      <th>brandSlogan</th>\n",
       "      <th>hasVideo</th>\n",
       "      <th>rating</th>\n",
       "      <th>priceUSD</th>\n",
       "      <th>countryRegion</th>\n",
       "      <th>startDate</th>\n",
       "      <th>endDate</th>\n",
       "      <th>teamSize</th>\n",
       "      <th>hasGithub</th>\n",
       "      <th>hasReddit</th>\n",
       "      <th>platform</th>\n",
       "      <th>coinNum</th>\n",
       "      <th>minInvestment</th>\n",
       "      <th>distributedPercentage</th>\n",
       "      <th>TotalInv</th>\n",
       "    </tr>\n",
       "  </thead>\n",
       "  <tbody>\n",
       "    <tr>\n",
       "      <th>98</th>\n",
       "      <td>99</td>\n",
       "      <td>Y</td>\n",
       "      <td>iCoin ICO - backed by real diamond mining.</td>\n",
       "      <td>1</td>\n",
       "      <td>4.1</td>\n",
       "      <td>1.00</td>\n",
       "      <td>Sierra Leone</td>\n",
       "      <td>05/08/2019</td>\n",
       "      <td>21/10/2019</td>\n",
       "      <td>13.0</td>\n",
       "      <td>1</td>\n",
       "      <td>1</td>\n",
       "      <td>Ethereum</td>\n",
       "      <td>1.000000e+07</td>\n",
       "      <td>1</td>\n",
       "      <td>1.66</td>\n",
       "      <td>10000000.0</td>\n",
       "    </tr>\n",
       "    <tr>\n",
       "      <th>541</th>\n",
       "      <td>542</td>\n",
       "      <td>N</td>\n",
       "      <td>Get Noticed!</td>\n",
       "      <td>1</td>\n",
       "      <td>3.8</td>\n",
       "      <td>0.39</td>\n",
       "      <td>Canada</td>\n",
       "      <td>06/04/2019</td>\n",
       "      <td>15/07/2019</td>\n",
       "      <td>10.0</td>\n",
       "      <td>1</td>\n",
       "      <td>1</td>\n",
       "      <td>NEO</td>\n",
       "      <td>4.000000e+06</td>\n",
       "      <td>1</td>\n",
       "      <td>4.00</td>\n",
       "      <td>1560000.0</td>\n",
       "    </tr>\n",
       "    <tr>\n",
       "      <th>680</th>\n",
       "      <td>681</td>\n",
       "      <td>N</td>\n",
       "      <td>It's time to create your token</td>\n",
       "      <td>1</td>\n",
       "      <td>3.7</td>\n",
       "      <td>0.02</td>\n",
       "      <td>France</td>\n",
       "      <td>04/11/2019</td>\n",
       "      <td>30/01/2020</td>\n",
       "      <td>8.0</td>\n",
       "      <td>0</td>\n",
       "      <td>1</td>\n",
       "      <td>Waves</td>\n",
       "      <td>2.000000e+07</td>\n",
       "      <td>1</td>\n",
       "      <td>9.52</td>\n",
       "      <td>400000.0</td>\n",
       "    </tr>\n",
       "    <tr>\n",
       "      <th>946</th>\n",
       "      <td>947</td>\n",
       "      <td>Y</td>\n",
       "      <td>Welcome to Play2Live!</td>\n",
       "      <td>1</td>\n",
       "      <td>4.1</td>\n",
       "      <td>0.05</td>\n",
       "      <td>Malta</td>\n",
       "      <td>21/02/2018</td>\n",
       "      <td>14/03/2018</td>\n",
       "      <td>23.0</td>\n",
       "      <td>0</td>\n",
       "      <td>0</td>\n",
       "      <td>Ethereum</td>\n",
       "      <td>1.308800e+09</td>\n",
       "      <td>1</td>\n",
       "      <td>62.50</td>\n",
       "      <td>65440000.0</td>\n",
       "    </tr>\n",
       "    <tr>\n",
       "      <th>964</th>\n",
       "      <td>965</td>\n",
       "      <td>N</td>\n",
       "      <td>The Coin You Can Bank On</td>\n",
       "      <td>1</td>\n",
       "      <td>3.5</td>\n",
       "      <td>2.88</td>\n",
       "      <td>Thailand</td>\n",
       "      <td>01/06/2018</td>\n",
       "      <td>30/06/2018</td>\n",
       "      <td>7.0</td>\n",
       "      <td>1</td>\n",
       "      <td>1</td>\n",
       "      <td>X11</td>\n",
       "      <td>6.656250e+06</td>\n",
       "      <td>0</td>\n",
       "      <td>266.25</td>\n",
       "      <td>19170000.0</td>\n",
       "    </tr>\n",
       "    <tr>\n",
       "      <th>1029</th>\n",
       "      <td>1030</td>\n",
       "      <td>N</td>\n",
       "      <td>Create Artificial Intelligence And Make Money ...</td>\n",
       "      <td>1</td>\n",
       "      <td>3.3</td>\n",
       "      <td>0.50</td>\n",
       "      <td>Switzerland</td>\n",
       "      <td>15/11/2019</td>\n",
       "      <td>15/05/2020</td>\n",
       "      <td>7.0</td>\n",
       "      <td>1</td>\n",
       "      <td>1</td>\n",
       "      <td>Ethereum</td>\n",
       "      <td>1.739500e+07</td>\n",
       "      <td>0</td>\n",
       "      <td>869.75</td>\n",
       "      <td>8697500.0</td>\n",
       "    </tr>\n",
       "    <tr>\n",
       "      <th>1403</th>\n",
       "      <td>1404</td>\n",
       "      <td>N</td>\n",
       "      <td>A new way to contribute to innovation</td>\n",
       "      <td>1</td>\n",
       "      <td>3.0</td>\n",
       "      <td>0.10</td>\n",
       "      <td>United Arab Emirates</td>\n",
       "      <td>10/07/2017</td>\n",
       "      <td>11/08/2017</td>\n",
       "      <td>9.0</td>\n",
       "      <td>1</td>\n",
       "      <td>1</td>\n",
       "      <td>Ethereum</td>\n",
       "      <td>3.000000e+06</td>\n",
       "      <td>0</td>\n",
       "      <td>20.00</td>\n",
       "      <td>300000.0</td>\n",
       "    </tr>\n",
       "    <tr>\n",
       "      <th>1655</th>\n",
       "      <td>1656</td>\n",
       "      <td>N</td>\n",
       "      <td>ZooomEx - Your Great Choice</td>\n",
       "      <td>0</td>\n",
       "      <td>4.2</td>\n",
       "      <td>0.03</td>\n",
       "      <td>Russia</td>\n",
       "      <td>19/08/2019</td>\n",
       "      <td>31/08/2019</td>\n",
       "      <td>3.0</td>\n",
       "      <td>0</td>\n",
       "      <td>0</td>\n",
       "      <td>Ethereum</td>\n",
       "      <td>5.000000e+07</td>\n",
       "      <td>0</td>\n",
       "      <td>50.00</td>\n",
       "      <td>1500000.0</td>\n",
       "    </tr>\n",
       "    <tr>\n",
       "      <th>1987</th>\n",
       "      <td>1988</td>\n",
       "      <td>Y</td>\n",
       "      <td>First ICO for Adult Entertainment</td>\n",
       "      <td>0</td>\n",
       "      <td>2.7</td>\n",
       "      <td>2.75</td>\n",
       "      <td>Estonia</td>\n",
       "      <td>20/07/2017</td>\n",
       "      <td>29/08/2017</td>\n",
       "      <td>9.0</td>\n",
       "      <td>0</td>\n",
       "      <td>0</td>\n",
       "      <td>Ethereum</td>\n",
       "      <td>3.000000e+06</td>\n",
       "      <td>1</td>\n",
       "      <td>60.00</td>\n",
       "      <td>8250000.0</td>\n",
       "    </tr>\n",
       "  </tbody>\n",
       "</table>\n",
       "</div>"
      ],
      "text/plain": [
       "        ID success                                        brandSlogan  \\\n",
       "98      99       Y         iCoin ICO - backed by real diamond mining.   \n",
       "541    542       N                                       Get Noticed!   \n",
       "680    681       N                     It's time to create your token   \n",
       "946    947       Y                              Welcome to Play2Live!   \n",
       "964    965       N                           The Coin You Can Bank On   \n",
       "1029  1030       N  Create Artificial Intelligence And Make Money ...   \n",
       "1403  1404       N              A new way to contribute to innovation   \n",
       "1655  1656       N                        ZooomEx - Your Great Choice   \n",
       "1987  1988       Y                  First ICO for Adult Entertainment   \n",
       "\n",
       "      hasVideo  rating  priceUSD         countryRegion   startDate  \\\n",
       "98           1     4.1      1.00          Sierra Leone  05/08/2019   \n",
       "541          1     3.8      0.39                Canada  06/04/2019   \n",
       "680          1     3.7      0.02                France  04/11/2019   \n",
       "946          1     4.1      0.05                 Malta  21/02/2018   \n",
       "964          1     3.5      2.88              Thailand  01/06/2018   \n",
       "1029         1     3.3      0.50           Switzerland  15/11/2019   \n",
       "1403         1     3.0      0.10  United Arab Emirates  10/07/2017   \n",
       "1655         0     4.2      0.03                Russia  19/08/2019   \n",
       "1987         0     2.7      2.75               Estonia  20/07/2017   \n",
       "\n",
       "         endDate  teamSize  hasGithub  hasReddit      platform       coinNum  \\\n",
       "98    21/10/2019      13.0          1          1      Ethereum  1.000000e+07   \n",
       "541   15/07/2019      10.0          1          1           NEO  4.000000e+06   \n",
       "680   30/01/2020       8.0          0          1         Waves  2.000000e+07   \n",
       "946   14/03/2018      23.0          0          0      Ethereum  1.308800e+09   \n",
       "964   30/06/2018       7.0          1          1           X11  6.656250e+06   \n",
       "1029  15/05/2020       7.0          1          1  Ethereum      1.739500e+07   \n",
       "1403  11/08/2017       9.0          1          1      Ethereum  3.000000e+06   \n",
       "1655  31/08/2019       3.0          0          0      Ethereum  5.000000e+07   \n",
       "1987  29/08/2017       9.0          0          0      Ethereum  3.000000e+06   \n",
       "\n",
       "      minInvestment  distributedPercentage    TotalInv  \n",
       "98                1                   1.66  10000000.0  \n",
       "541               1                   4.00   1560000.0  \n",
       "680               1                   9.52    400000.0  \n",
       "946               1                  62.50  65440000.0  \n",
       "964               0                 266.25  19170000.0  \n",
       "1029              0                 869.75   8697500.0  \n",
       "1403              0                  20.00    300000.0  \n",
       "1655              0                  50.00   1500000.0  \n",
       "1987              1                  60.00   8250000.0  "
      ]
     },
     "execution_count": 182,
     "metadata": {},
     "output_type": "execute_result"
    }
   ],
   "source": [
    "df1[df1.distributedPercentage>1]"
   ]
  },
  {
   "cell_type": "code",
   "execution_count": 183,
   "metadata": {
    "colab": {
     "base_uri": "https://localhost:8080/",
     "height": 521
    },
    "id": "KJF92Ai5rkYe",
    "outputId": "4091aacc-b603-417b-b4ef-dd64ace924b8"
   },
   "outputs": [
    {
     "data": {
      "text/html": [
       "<div>\n",
       "<style scoped>\n",
       "    .dataframe tbody tr th:only-of-type {\n",
       "        vertical-align: middle;\n",
       "    }\n",
       "\n",
       "    .dataframe tbody tr th {\n",
       "        vertical-align: top;\n",
       "    }\n",
       "\n",
       "    .dataframe thead th {\n",
       "        text-align: right;\n",
       "    }\n",
       "</style>\n",
       "<table border=\"1\" class=\"dataframe\">\n",
       "  <thead>\n",
       "    <tr style=\"text-align: right;\">\n",
       "      <th></th>\n",
       "      <th>ID</th>\n",
       "      <th>success</th>\n",
       "      <th>brandSlogan</th>\n",
       "      <th>hasVideo</th>\n",
       "      <th>rating</th>\n",
       "      <th>priceUSD</th>\n",
       "      <th>countryRegion</th>\n",
       "      <th>startDate</th>\n",
       "      <th>endDate</th>\n",
       "      <th>teamSize</th>\n",
       "      <th>hasGithub</th>\n",
       "      <th>hasReddit</th>\n",
       "      <th>platform</th>\n",
       "      <th>coinNum</th>\n",
       "      <th>minInvestment</th>\n",
       "      <th>distributedPercentage</th>\n",
       "    </tr>\n",
       "  </thead>\n",
       "  <tbody>\n",
       "    <tr>\n",
       "      <th>0</th>\n",
       "      <td>1</td>\n",
       "      <td>N</td>\n",
       "      <td>Is One of Its Kind ERC-20 Decentralized Stable...</td>\n",
       "      <td>1</td>\n",
       "      <td>4.0</td>\n",
       "      <td>30.00</td>\n",
       "      <td>Singapore</td>\n",
       "      <td>01/10/2019</td>\n",
       "      <td>01/10/2019</td>\n",
       "      <td>31.0</td>\n",
       "      <td>1</td>\n",
       "      <td>1</td>\n",
       "      <td>Ethereum</td>\n",
       "      <td>5.099990e+05</td>\n",
       "      <td>0</td>\n",
       "      <td>0.49</td>\n",
       "    </tr>\n",
       "    <tr>\n",
       "      <th>1</th>\n",
       "      <td>2</td>\n",
       "      <td>N</td>\n",
       "      <td>The Ultimate Blockchain Gaming Platform</td>\n",
       "      <td>1</td>\n",
       "      <td>4.3</td>\n",
       "      <td>0.13</td>\n",
       "      <td>Malta</td>\n",
       "      <td>07/09/2018</td>\n",
       "      <td>12/10/2018</td>\n",
       "      <td>20.0</td>\n",
       "      <td>1</td>\n",
       "      <td>1</td>\n",
       "      <td>XAYA</td>\n",
       "      <td>2.250000e+08</td>\n",
       "      <td>1</td>\n",
       "      <td>0.41</td>\n",
       "    </tr>\n",
       "    <tr>\n",
       "      <th>2</th>\n",
       "      <td>3</td>\n",
       "      <td>N</td>\n",
       "      <td>Simple Automated Investment App Driven by AI &amp; ML</td>\n",
       "      <td>1</td>\n",
       "      <td>4.4</td>\n",
       "      <td>0.01</td>\n",
       "      <td>UK</td>\n",
       "      <td>01/07/2019</td>\n",
       "      <td>30/06/2020</td>\n",
       "      <td>10.0</td>\n",
       "      <td>1</td>\n",
       "      <td>1</td>\n",
       "      <td>Stellar</td>\n",
       "      <td>5.000000e+09</td>\n",
       "      <td>1</td>\n",
       "      <td>0.40</td>\n",
       "    </tr>\n",
       "    <tr>\n",
       "      <th>3</th>\n",
       "      <td>4</td>\n",
       "      <td>Y</td>\n",
       "      <td>International Real Estate Crowdfunding Platform</td>\n",
       "      <td>1</td>\n",
       "      <td>4.3</td>\n",
       "      <td>NaN</td>\n",
       "      <td>Netherlands</td>\n",
       "      <td>01/10/2019</td>\n",
       "      <td>15/12/2019</td>\n",
       "      <td>27.0</td>\n",
       "      <td>1</td>\n",
       "      <td>1</td>\n",
       "      <td>Separate blockchain</td>\n",
       "      <td>1.250000e+08</td>\n",
       "      <td>1</td>\n",
       "      <td>0.13</td>\n",
       "    </tr>\n",
       "    <tr>\n",
       "      <th>4</th>\n",
       "      <td>5</td>\n",
       "      <td>N</td>\n",
       "      <td>Secure, Interference-Free Communications System</td>\n",
       "      <td>1</td>\n",
       "      <td>4.3</td>\n",
       "      <td>0.03</td>\n",
       "      <td>Mauritius</td>\n",
       "      <td>28/07/2019</td>\n",
       "      <td>30/11/2019</td>\n",
       "      <td>14.0</td>\n",
       "      <td>1</td>\n",
       "      <td>1</td>\n",
       "      <td>Ethereum</td>\n",
       "      <td>5.000000e+09</td>\n",
       "      <td>1</td>\n",
       "      <td>0.50</td>\n",
       "    </tr>\n",
       "  </tbody>\n",
       "</table>\n",
       "</div>"
      ],
      "text/plain": [
       "   ID success                                        brandSlogan  hasVideo  \\\n",
       "0   1       N  Is One of Its Kind ERC-20 Decentralized Stable...         1   \n",
       "1   2       N            The Ultimate Blockchain Gaming Platform         1   \n",
       "2   3       N  Simple Automated Investment App Driven by AI & ML         1   \n",
       "3   4       Y    International Real Estate Crowdfunding Platform         1   \n",
       "4   5       N    Secure, Interference-Free Communications System         1   \n",
       "\n",
       "   rating  priceUSD countryRegion   startDate     endDate  teamSize  \\\n",
       "0     4.0     30.00     Singapore  01/10/2019  01/10/2019      31.0   \n",
       "1     4.3      0.13         Malta  07/09/2018  12/10/2018      20.0   \n",
       "2     4.4      0.01            UK  01/07/2019  30/06/2020      10.0   \n",
       "3     4.3       NaN   Netherlands  01/10/2019  15/12/2019      27.0   \n",
       "4     4.3      0.03     Mauritius  28/07/2019  30/11/2019      14.0   \n",
       "\n",
       "   hasGithub  hasReddit             platform       coinNum  minInvestment  \\\n",
       "0          1          1             Ethereum  5.099990e+05              0   \n",
       "1          1          1                 XAYA  2.250000e+08              1   \n",
       "2          1          1              Stellar  5.000000e+09              1   \n",
       "3          1          1  Separate blockchain  1.250000e+08              1   \n",
       "4          1          1             Ethereum  5.000000e+09              1   \n",
       "\n",
       "   distributedPercentage  \n",
       "0                   0.49  \n",
       "1                   0.41  \n",
       "2                   0.40  \n",
       "3                   0.13  \n",
       "4                   0.50  "
      ]
     },
     "execution_count": 183,
     "metadata": {},
     "output_type": "execute_result"
    }
   ],
   "source": [
    "df.head()"
   ]
  },
  {
   "cell_type": "markdown",
   "metadata": {},
   "source": [
    "## Data Manipulation"
   ]
  },
  {
   "cell_type": "code",
   "execution_count": 184,
   "metadata": {},
   "outputs": [],
   "source": [
    "df1.replace(['Y','N'],[1,0],inplace=True)"
   ]
  },
  {
   "cell_type": "code",
   "execution_count": 185,
   "metadata": {},
   "outputs": [
    {
     "name": "stdout",
     "output_type": "stream",
     "text": [
      "<class 'pandas.core.frame.DataFrame'>\n",
      "Index: 2392 entries, 0 to 2752\n",
      "Data columns (total 17 columns):\n",
      " #   Column                 Non-Null Count  Dtype  \n",
      "---  ------                 --------------  -----  \n",
      " 0   ID                     2392 non-null   int64  \n",
      " 1   success                2392 non-null   int64  \n",
      " 2   brandSlogan            2392 non-null   object \n",
      " 3   hasVideo               2392 non-null   int64  \n",
      " 4   rating                 2392 non-null   float64\n",
      " 5   priceUSD               2392 non-null   float64\n",
      " 6   countryRegion          2392 non-null   object \n",
      " 7   startDate              2392 non-null   object \n",
      " 8   endDate                2392 non-null   object \n",
      " 9   teamSize               2392 non-null   float64\n",
      " 10  hasGithub              2392 non-null   int64  \n",
      " 11  hasReddit              2392 non-null   int64  \n",
      " 12  platform               2392 non-null   object \n",
      " 13  coinNum                2392 non-null   float64\n",
      " 14  minInvestment          2392 non-null   int64  \n",
      " 15  distributedPercentage  2392 non-null   float64\n",
      " 16  TotalInv               2392 non-null   float64\n",
      "dtypes: float64(6), int64(6), object(5)\n",
      "memory usage: 336.4+ KB\n"
     ]
    }
   ],
   "source": [
    "df1.info()"
   ]
  },
  {
   "cell_type": "markdown",
   "metadata": {},
   "source": [
    "### Platform"
   ]
  },
  {
   "cell_type": "code",
   "execution_count": 186,
   "metadata": {},
   "outputs": [],
   "source": [
    "# Fix ethereum\n",
    "x=pd.Series(df1.platform.unique())\n",
    "y=x.str.contains('eth',case=False)\n",
    "eth=x[y[y==True].index].values\n",
    "df1.platform.replace(eth,'Ethereum',inplace=True)"
   ]
  },
  {
   "cell_type": "code",
   "execution_count": 187,
   "metadata": {},
   "outputs": [
    {
     "data": {
      "text/plain": [
       "130"
      ]
     },
     "execution_count": 187,
     "metadata": {},
     "output_type": "execute_result"
    }
   ],
   "source": [
    "len(df.platform.unique())"
   ]
  },
  {
   "cell_type": "code",
   "execution_count": 188,
   "metadata": {},
   "outputs": [
    {
     "data": {
      "text/plain": [
       "103"
      ]
     },
     "execution_count": 188,
     "metadata": {},
     "output_type": "execute_result"
    }
   ],
   "source": [
    "len(df1.platform.unique())"
   ]
  },
  {
   "cell_type": "code",
   "execution_count": 189,
   "metadata": {},
   "outputs": [
    {
     "data": {
      "text/plain": [
       "platform\n",
       "                     1\n",
       " NEO                 0\n",
       "AION                 0\n",
       "Acclaim              0\n",
       "Achain               1\n",
       "                    ..\n",
       "Zuum                 0\n",
       "iOlite Blockchain    1\n",
       "pow/pos              0\n",
       "xDAC                 1\n",
       "​Komodo              1\n",
       "Name: success, Length: 103, dtype: int64"
      ]
     },
     "execution_count": 189,
     "metadata": {},
     "output_type": "execute_result"
    }
   ],
   "source": [
    "df1.groupby(by='platform').success.sum()"
   ]
  },
  {
   "cell_type": "code",
   "execution_count": 190,
   "metadata": {},
   "outputs": [],
   "source": [
    "platform=pd.DataFrame(df1.groupby(by='platform').success.sum()*100/df1.groupby(by='platform').success.count())\n",
    "platform2=pd.DataFrame(df1.groupby(by='platform').success.count())\n",
    "platform=platform.rename(columns={'success':'rate'})\n",
    "platform=platform.merge(platform2,on='platform')\n",
    "platform=platform.rename(columns={'success':'count'})"
   ]
  },
  {
   "cell_type": "code",
   "execution_count": 191,
   "metadata": {
    "scrolled": true
   },
   "outputs": [
    {
     "data": {
      "text/html": [
       "<div>\n",
       "<style scoped>\n",
       "    .dataframe tbody tr th:only-of-type {\n",
       "        vertical-align: middle;\n",
       "    }\n",
       "\n",
       "    .dataframe tbody tr th {\n",
       "        vertical-align: top;\n",
       "    }\n",
       "\n",
       "    .dataframe thead th {\n",
       "        text-align: right;\n",
       "    }\n",
       "</style>\n",
       "<table border=\"1\" class=\"dataframe\">\n",
       "  <thead>\n",
       "    <tr style=\"text-align: right;\">\n",
       "      <th></th>\n",
       "      <th>rate</th>\n",
       "      <th>count</th>\n",
       "    </tr>\n",
       "    <tr>\n",
       "      <th>platform</th>\n",
       "      <th></th>\n",
       "      <th></th>\n",
       "    </tr>\n",
       "  </thead>\n",
       "  <tbody>\n",
       "    <tr>\n",
       "      <th>Ethereum</th>\n",
       "      <td>40.000000</td>\n",
       "      <td>2095</td>\n",
       "    </tr>\n",
       "    <tr>\n",
       "      <th>Waves</th>\n",
       "      <td>30.000000</td>\n",
       "      <td>50</td>\n",
       "    </tr>\n",
       "    <tr>\n",
       "      <th>Stellar</th>\n",
       "      <td>27.027027</td>\n",
       "      <td>37</td>\n",
       "    </tr>\n",
       "    <tr>\n",
       "      <th>Separate blockchain</th>\n",
       "      <td>51.851852</td>\n",
       "      <td>27</td>\n",
       "    </tr>\n",
       "    <tr>\n",
       "      <th>NEO</th>\n",
       "      <td>45.000000</td>\n",
       "      <td>20</td>\n",
       "    </tr>\n",
       "    <tr>\n",
       "      <th>...</th>\n",
       "      <td>...</td>\n",
       "      <td>...</td>\n",
       "    </tr>\n",
       "    <tr>\n",
       "      <th>ISL-Blockchain</th>\n",
       "      <td>0.000000</td>\n",
       "      <td>1</td>\n",
       "    </tr>\n",
       "    <tr>\n",
       "      <th>IOV Blockchain</th>\n",
       "      <td>0.000000</td>\n",
       "      <td>1</td>\n",
       "    </tr>\n",
       "    <tr>\n",
       "      <th>Hard-Fork of Litecoin</th>\n",
       "      <td>0.000000</td>\n",
       "      <td>1</td>\n",
       "    </tr>\n",
       "    <tr>\n",
       "      <th>GoChain</th>\n",
       "      <td>100.000000</td>\n",
       "      <td>1</td>\n",
       "    </tr>\n",
       "    <tr>\n",
       "      <th>​Komodo</th>\n",
       "      <td>100.000000</td>\n",
       "      <td>1</td>\n",
       "    </tr>\n",
       "  </tbody>\n",
       "</table>\n",
       "<p>103 rows × 2 columns</p>\n",
       "</div>"
      ],
      "text/plain": [
       "                             rate  count\n",
       "platform                                \n",
       "Ethereum                40.000000   2095\n",
       "Waves                   30.000000     50\n",
       "Stellar                 27.027027     37\n",
       "Separate blockchain     51.851852     27\n",
       "NEO                     45.000000     20\n",
       "...                           ...    ...\n",
       "ISL-Blockchain           0.000000      1\n",
       "IOV Blockchain           0.000000      1\n",
       "Hard-Fork of Litecoin    0.000000      1\n",
       "GoChain                100.000000      1\n",
       "​Komodo                100.000000      1\n",
       "\n",
       "[103 rows x 2 columns]"
      ]
     },
     "execution_count": 191,
     "metadata": {},
     "output_type": "execute_result"
    }
   ],
   "source": [
    "platform.sort_values(by='count',ascending=False)"
   ]
  },
  {
   "cell_type": "code",
   "execution_count": 192,
   "metadata": {},
   "outputs": [],
   "source": [
    "platform=platform.drop(platform['count'].idxmax())"
   ]
  },
  {
   "cell_type": "code",
   "execution_count": 193,
   "metadata": {},
   "outputs": [
    {
     "data": {
      "text/plain": [
       "<Axes: xlabel='count', ylabel='rate'>"
      ]
     },
     "execution_count": 193,
     "metadata": {},
     "output_type": "execute_result"
    },
    {
     "data": {
      "image/png": "[encoded data removed]",
      "text/plain": [
       "<Figure size 640x480 with 1 Axes>"
      ]
     },
     "metadata": {},
     "output_type": "display_data"
    }
   ],
   "source": [
    "platform.plot.scatter(x='count',y='rate')"
   ]
  },
  {
   "cell_type": "code",
   "execution_count": 194,
   "metadata": {},
   "outputs": [
    {
     "data": {
      "text/html": [
       "<div>\n",
       "<style scoped>\n",
       "    .dataframe tbody tr th:only-of-type {\n",
       "        vertical-align: middle;\n",
       "    }\n",
       "\n",
       "    .dataframe tbody tr th {\n",
       "        vertical-align: top;\n",
       "    }\n",
       "\n",
       "    .dataframe thead th {\n",
       "        text-align: right;\n",
       "    }\n",
       "</style>\n",
       "<table border=\"1\" class=\"dataframe\">\n",
       "  <thead>\n",
       "    <tr style=\"text-align: right;\">\n",
       "      <th></th>\n",
       "      <th>rate</th>\n",
       "      <th>count</th>\n",
       "    </tr>\n",
       "    <tr>\n",
       "      <th>platform</th>\n",
       "      <th></th>\n",
       "      <th></th>\n",
       "    </tr>\n",
       "  </thead>\n",
       "  <tbody>\n",
       "    <tr>\n",
       "      <th>NEM</th>\n",
       "      <td>25.000000</td>\n",
       "      <td>12</td>\n",
       "    </tr>\n",
       "    <tr>\n",
       "      <th>X11</th>\n",
       "      <td>14.285714</td>\n",
       "      <td>7</td>\n",
       "    </tr>\n",
       "    <tr>\n",
       "      <th>Bitcoin</th>\n",
       "      <td>0.000000</td>\n",
       "      <td>5</td>\n",
       "    </tr>\n",
       "    <tr>\n",
       "      <th>NXT</th>\n",
       "      <td>0.000000</td>\n",
       "      <td>3</td>\n",
       "    </tr>\n",
       "    <tr>\n",
       "      <th>Native</th>\n",
       "      <td>0.000000</td>\n",
       "      <td>2</td>\n",
       "    </tr>\n",
       "    <tr>\n",
       "      <th>Bitshares</th>\n",
       "      <td>0.000000</td>\n",
       "      <td>2</td>\n",
       "    </tr>\n",
       "    <tr>\n",
       "      <th>POS</th>\n",
       "      <td>0.000000</td>\n",
       "      <td>2</td>\n",
       "    </tr>\n",
       "    <tr>\n",
       "      <th>SmartX</th>\n",
       "      <td>0.000000</td>\n",
       "      <td>1</td>\n",
       "    </tr>\n",
       "    <tr>\n",
       "      <th>Neblio</th>\n",
       "      <td>0.000000</td>\n",
       "      <td>1</td>\n",
       "    </tr>\n",
       "    <tr>\n",
       "      <th>Nem</th>\n",
       "      <td>0.000000</td>\n",
       "      <td>1</td>\n",
       "    </tr>\n",
       "    <tr>\n",
       "      <th>Neo</th>\n",
       "      <td>0.000000</td>\n",
       "      <td>1</td>\n",
       "    </tr>\n",
       "    <tr>\n",
       "      <th>New Blockchain</th>\n",
       "      <td>0.000000</td>\n",
       "      <td>1</td>\n",
       "    </tr>\n",
       "    <tr>\n",
       "      <th>POS,POW</th>\n",
       "      <td>0.000000</td>\n",
       "      <td>1</td>\n",
       "    </tr>\n",
       "    <tr>\n",
       "      <th>Pivx</th>\n",
       "      <td>0.000000</td>\n",
       "      <td>1</td>\n",
       "    </tr>\n",
       "    <tr>\n",
       "      <th>ST20</th>\n",
       "      <td>0.000000</td>\n",
       "      <td>1</td>\n",
       "    </tr>\n",
       "    <tr>\n",
       "      <th>Slatechain</th>\n",
       "      <td>0.000000</td>\n",
       "      <td>1</td>\n",
       "    </tr>\n",
       "    <tr>\n",
       "      <th>NEO</th>\n",
       "      <td>0.000000</td>\n",
       "      <td>1</td>\n",
       "    </tr>\n",
       "    <tr>\n",
       "      <th>Stellar Protocol</th>\n",
       "      <td>0.000000</td>\n",
       "      <td>1</td>\n",
       "    </tr>\n",
       "    <tr>\n",
       "      <th>TEZOS</th>\n",
       "      <td>0.000000</td>\n",
       "      <td>1</td>\n",
       "    </tr>\n",
       "    <tr>\n",
       "      <th>Ventureon</th>\n",
       "      <td>0.000000</td>\n",
       "      <td>1</td>\n",
       "    </tr>\n",
       "    <tr>\n",
       "      <th>WAVES</th>\n",
       "      <td>0.000000</td>\n",
       "      <td>1</td>\n",
       "    </tr>\n",
       "    <tr>\n",
       "      <th>Wanchain</th>\n",
       "      <td>0.000000</td>\n",
       "      <td>1</td>\n",
       "    </tr>\n",
       "    <tr>\n",
       "      <th>WizeBit</th>\n",
       "      <td>0.000000</td>\n",
       "      <td>1</td>\n",
       "    </tr>\n",
       "    <tr>\n",
       "      <th>X11 blockchain</th>\n",
       "      <td>0.000000</td>\n",
       "      <td>1</td>\n",
       "    </tr>\n",
       "    <tr>\n",
       "      <th>X13</th>\n",
       "      <td>0.000000</td>\n",
       "      <td>1</td>\n",
       "    </tr>\n",
       "    <tr>\n",
       "      <th>XAYA</th>\n",
       "      <td>0.000000</td>\n",
       "      <td>1</td>\n",
       "    </tr>\n",
       "    <tr>\n",
       "      <th>YouToken</th>\n",
       "      <td>0.000000</td>\n",
       "      <td>1</td>\n",
       "    </tr>\n",
       "    <tr>\n",
       "      <th>Zuum</th>\n",
       "      <td>0.000000</td>\n",
       "      <td>1</td>\n",
       "    </tr>\n",
       "    <tr>\n",
       "      <th>Tron</th>\n",
       "      <td>0.000000</td>\n",
       "      <td>1</td>\n",
       "    </tr>\n",
       "    <tr>\n",
       "      <th>MultiChain</th>\n",
       "      <td>0.000000</td>\n",
       "      <td>1</td>\n",
       "    </tr>\n",
       "    <tr>\n",
       "      <th>AION</th>\n",
       "      <td>0.000000</td>\n",
       "      <td>1</td>\n",
       "    </tr>\n",
       "    <tr>\n",
       "      <th>CryptoNote-based Blockchain</th>\n",
       "      <td>0.000000</td>\n",
       "      <td>1</td>\n",
       "    </tr>\n",
       "    <tr>\n",
       "      <th>Acclaim</th>\n",
       "      <td>0.000000</td>\n",
       "      <td>1</td>\n",
       "    </tr>\n",
       "    <tr>\n",
       "      <th>Akroma</th>\n",
       "      <td>0.000000</td>\n",
       "      <td>1</td>\n",
       "    </tr>\n",
       "    <tr>\n",
       "      <th>Apollo Blockchain</th>\n",
       "      <td>0.000000</td>\n",
       "      <td>1</td>\n",
       "    </tr>\n",
       "    <tr>\n",
       "      <th>Ardor</th>\n",
       "      <td>0.000000</td>\n",
       "      <td>1</td>\n",
       "    </tr>\n",
       "    <tr>\n",
       "      <th>Blockchain</th>\n",
       "      <td>0.000000</td>\n",
       "      <td>1</td>\n",
       "    </tr>\n",
       "    <tr>\n",
       "      <th>ChainRepublik Blockchain</th>\n",
       "      <td>0.000000</td>\n",
       "      <td>1</td>\n",
       "    </tr>\n",
       "    <tr>\n",
       "      <th>Coffe</th>\n",
       "      <td>0.000000</td>\n",
       "      <td>1</td>\n",
       "    </tr>\n",
       "    <tr>\n",
       "      <th>Coincart</th>\n",
       "      <td>0.000000</td>\n",
       "      <td>1</td>\n",
       "    </tr>\n",
       "    <tr>\n",
       "      <th>Counterparty</th>\n",
       "      <td>0.000000</td>\n",
       "      <td>1</td>\n",
       "    </tr>\n",
       "    <tr>\n",
       "      <th>CryptoNight</th>\n",
       "      <td>0.000000</td>\n",
       "      <td>1</td>\n",
       "    </tr>\n",
       "    <tr>\n",
       "      <th>ENLTE PLATFORM</th>\n",
       "      <td>0.000000</td>\n",
       "      <td>1</td>\n",
       "    </tr>\n",
       "    <tr>\n",
       "      <th>Monero</th>\n",
       "      <td>0.000000</td>\n",
       "      <td>1</td>\n",
       "    </tr>\n",
       "    <tr>\n",
       "      <th>ENTRY</th>\n",
       "      <td>0.000000</td>\n",
       "      <td>1</td>\n",
       "    </tr>\n",
       "    <tr>\n",
       "      <th>ERC20</th>\n",
       "      <td>0.000000</td>\n",
       "      <td>1</td>\n",
       "    </tr>\n",
       "    <tr>\n",
       "      <th>Eos</th>\n",
       "      <td>0.000000</td>\n",
       "      <td>1</td>\n",
       "    </tr>\n",
       "    <tr>\n",
       "      <th>Hard-Fork of Litecoin</th>\n",
       "      <td>0.000000</td>\n",
       "      <td>1</td>\n",
       "    </tr>\n",
       "    <tr>\n",
       "      <th>IOV Blockchain</th>\n",
       "      <td>0.000000</td>\n",
       "      <td>1</td>\n",
       "    </tr>\n",
       "    <tr>\n",
       "      <th>ISL-Blockchain</th>\n",
       "      <td>0.000000</td>\n",
       "      <td>1</td>\n",
       "    </tr>\n",
       "    <tr>\n",
       "      <th>IronGeekChain</th>\n",
       "      <td>0.000000</td>\n",
       "      <td>1</td>\n",
       "    </tr>\n",
       "    <tr>\n",
       "      <th>Keccak</th>\n",
       "      <td>0.000000</td>\n",
       "      <td>1</td>\n",
       "    </tr>\n",
       "    <tr>\n",
       "      <th>Lisk</th>\n",
       "      <td>0.000000</td>\n",
       "      <td>1</td>\n",
       "    </tr>\n",
       "    <tr>\n",
       "      <th>MAHRA platform</th>\n",
       "      <td>0.000000</td>\n",
       "      <td>1</td>\n",
       "    </tr>\n",
       "    <tr>\n",
       "      <th>pow/pos</th>\n",
       "      <td>0.000000</td>\n",
       "      <td>1</td>\n",
       "    </tr>\n",
       "  </tbody>\n",
       "</table>\n",
       "</div>"
      ],
      "text/plain": [
       "                                  rate  count\n",
       "platform                                     \n",
       "NEM                          25.000000     12\n",
       "X11                          14.285714      7\n",
       "Bitcoin                       0.000000      5\n",
       "NXT                           0.000000      3\n",
       "Native                        0.000000      2\n",
       "Bitshares                     0.000000      2\n",
       "POS                           0.000000      2\n",
       "SmartX                        0.000000      1\n",
       "Neblio                        0.000000      1\n",
       "Nem                           0.000000      1\n",
       "Neo                           0.000000      1\n",
       "New Blockchain                0.000000      1\n",
       "POS,POW                       0.000000      1\n",
       "Pivx                          0.000000      1\n",
       "ST20                          0.000000      1\n",
       "Slatechain                    0.000000      1\n",
       " NEO                          0.000000      1\n",
       "Stellar Protocol              0.000000      1\n",
       "TEZOS                         0.000000      1\n",
       "Ventureon                     0.000000      1\n",
       "WAVES                         0.000000      1\n",
       "Wanchain                      0.000000      1\n",
       "WizeBit                       0.000000      1\n",
       "X11 blockchain                0.000000      1\n",
       "X13                           0.000000      1\n",
       "XAYA                          0.000000      1\n",
       "YouToken                      0.000000      1\n",
       "Zuum                          0.000000      1\n",
       "Tron                          0.000000      1\n",
       "MultiChain                    0.000000      1\n",
       "AION                          0.000000      1\n",
       "CryptoNote-based Blockchain   0.000000      1\n",
       "Acclaim                       0.000000      1\n",
       "Akroma                        0.000000      1\n",
       "Apollo Blockchain             0.000000      1\n",
       "Ardor                         0.000000      1\n",
       "Blockchain                    0.000000      1\n",
       "ChainRepublik Blockchain      0.000000      1\n",
       "Coffe                         0.000000      1\n",
       "Coincart                      0.000000      1\n",
       "Counterparty                  0.000000      1\n",
       "CryptoNight                   0.000000      1\n",
       "ENLTE PLATFORM                0.000000      1\n",
       "Monero                        0.000000      1\n",
       "ENTRY                         0.000000      1\n",
       "ERC20                         0.000000      1\n",
       "Eos                           0.000000      1\n",
       "Hard-Fork of Litecoin         0.000000      1\n",
       "IOV Blockchain                0.000000      1\n",
       "ISL-Blockchain                0.000000      1\n",
       "IronGeekChain                 0.000000      1\n",
       "Keccak                        0.000000      1\n",
       "Lisk                          0.000000      1\n",
       "MAHRA platform                0.000000      1\n",
       "pow/pos                       0.000000      1"
      ]
     },
     "execution_count": 194,
     "metadata": {},
     "output_type": "execute_result"
    }
   ],
   "source": [
    "platform[platform['rate']<=25].sort_values(by='count',ascending=False)"
   ]
  },
  {
   "cell_type": "code",
   "execution_count": 195,
   "metadata": {},
   "outputs": [
    {
     "data": {
      "text/html": [
       "<div>\n",
       "<style scoped>\n",
       "    .dataframe tbody tr th:only-of-type {\n",
       "        vertical-align: middle;\n",
       "    }\n",
       "\n",
       "    .dataframe tbody tr th {\n",
       "        vertical-align: top;\n",
       "    }\n",
       "\n",
       "    .dataframe thead th {\n",
       "        text-align: right;\n",
       "    }\n",
       "</style>\n",
       "<table border=\"1\" class=\"dataframe\">\n",
       "  <thead>\n",
       "    <tr style=\"text-align: right;\">\n",
       "      <th></th>\n",
       "      <th>rate</th>\n",
       "      <th>count</th>\n",
       "    </tr>\n",
       "    <tr>\n",
       "      <th>platform</th>\n",
       "      <th></th>\n",
       "      <th></th>\n",
       "    </tr>\n",
       "  </thead>\n",
       "  <tbody>\n",
       "    <tr>\n",
       "      <th>Waves</th>\n",
       "      <td>30.000000</td>\n",
       "      <td>50</td>\n",
       "    </tr>\n",
       "    <tr>\n",
       "      <th>Stellar</th>\n",
       "      <td>27.027027</td>\n",
       "      <td>37</td>\n",
       "    </tr>\n",
       "    <tr>\n",
       "      <th>Separate blockchain</th>\n",
       "      <td>51.851852</td>\n",
       "      <td>27</td>\n",
       "    </tr>\n",
       "    <tr>\n",
       "      <th>NEO</th>\n",
       "      <td>45.000000</td>\n",
       "      <td>20</td>\n",
       "    </tr>\n",
       "    <tr>\n",
       "      <th>EOS</th>\n",
       "      <td>35.714286</td>\n",
       "      <td>14</td>\n",
       "    </tr>\n",
       "    <tr>\n",
       "      <th>...</th>\n",
       "      <td>...</td>\n",
       "      <td>...</td>\n",
       "    </tr>\n",
       "    <tr>\n",
       "      <th>ISL-Blockchain</th>\n",
       "      <td>0.000000</td>\n",
       "      <td>1</td>\n",
       "    </tr>\n",
       "    <tr>\n",
       "      <th>IOV Blockchain</th>\n",
       "      <td>0.000000</td>\n",
       "      <td>1</td>\n",
       "    </tr>\n",
       "    <tr>\n",
       "      <th>Hard-Fork of Litecoin</th>\n",
       "      <td>0.000000</td>\n",
       "      <td>1</td>\n",
       "    </tr>\n",
       "    <tr>\n",
       "      <th>GoChain</th>\n",
       "      <td>100.000000</td>\n",
       "      <td>1</td>\n",
       "    </tr>\n",
       "    <tr>\n",
       "      <th>​Komodo</th>\n",
       "      <td>100.000000</td>\n",
       "      <td>1</td>\n",
       "    </tr>\n",
       "  </tbody>\n",
       "</table>\n",
       "<p>102 rows × 2 columns</p>\n",
       "</div>"
      ],
      "text/plain": [
       "                             rate  count\n",
       "platform                                \n",
       "Waves                   30.000000     50\n",
       "Stellar                 27.027027     37\n",
       "Separate blockchain     51.851852     27\n",
       "NEO                     45.000000     20\n",
       "EOS                     35.714286     14\n",
       "...                           ...    ...\n",
       "ISL-Blockchain           0.000000      1\n",
       "IOV Blockchain           0.000000      1\n",
       "Hard-Fork of Litecoin    0.000000      1\n",
       "GoChain                100.000000      1\n",
       "​Komodo                100.000000      1\n",
       "\n",
       "[102 rows x 2 columns]"
      ]
     },
     "execution_count": 195,
     "metadata": {},
     "output_type": "execute_result"
    }
   ],
   "source": [
    "platform.sort_values(by='count',ascending=False)"
   ]
  },
  {
   "cell_type": "code",
   "execution_count": 196,
   "metadata": {},
   "outputs": [],
   "source": [
    "grp_plat=platform[platform['rate']<=25].index"
   ]
  },
  {
   "cell_type": "code",
   "execution_count": 197,
   "metadata": {},
   "outputs": [],
   "source": [
    "df1.platform.replace(grp_plat,'others',inplace=True)"
   ]
  },
  {
   "cell_type": "code",
   "execution_count": 198,
   "metadata": {},
   "outputs": [
    {
     "data": {
      "text/plain": [
       "49"
      ]
     },
     "execution_count": 198,
     "metadata": {},
     "output_type": "execute_result"
    }
   ],
   "source": [
    "len(df1.platform.unique())"
   ]
  },
  {
   "cell_type": "markdown",
   "metadata": {},
   "source": [
    "### Country/Region"
   ]
  },
  {
   "cell_type": "code",
   "execution_count": 199,
   "metadata": {},
   "outputs": [],
   "source": [
    "country=pd.DataFrame(df1.groupby(by='countryRegion').success.sum()*100/df1.groupby(by='countryRegion').success.count())\n",
    "country2=pd.DataFrame(df1.groupby(by='countryRegion').success.count())\n",
    "country=country.rename(columns={'success':'rate'})\n",
    "country=country.merge(country2,on='countryRegion')\n",
    "country=country.rename(columns={'success':'count'})"
   ]
  },
  {
   "cell_type": "code",
   "execution_count": 200,
   "metadata": {},
   "outputs": [
    {
     "data": {
      "text/html": [
       "<div>\n",
       "<style scoped>\n",
       "    .dataframe tbody tr th:only-of-type {\n",
       "        vertical-align: middle;\n",
       "    }\n",
       "\n",
       "    .dataframe tbody tr th {\n",
       "        vertical-align: top;\n",
       "    }\n",
       "\n",
       "    .dataframe thead th {\n",
       "        text-align: right;\n",
       "    }\n",
       "</style>\n",
       "<table border=\"1\" class=\"dataframe\">\n",
       "  <thead>\n",
       "    <tr style=\"text-align: right;\">\n",
       "      <th></th>\n",
       "      <th>rate</th>\n",
       "      <th>count</th>\n",
       "    </tr>\n",
       "    <tr>\n",
       "      <th>countryRegion</th>\n",
       "      <th></th>\n",
       "      <th></th>\n",
       "    </tr>\n",
       "  </thead>\n",
       "  <tbody>\n",
       "    <tr>\n",
       "      <th>Congo</th>\n",
       "      <td>0.0</td>\n",
       "      <td>1</td>\n",
       "    </tr>\n",
       "    <tr>\n",
       "      <th>Ghana</th>\n",
       "      <td>0.0</td>\n",
       "      <td>1</td>\n",
       "    </tr>\n",
       "    <tr>\n",
       "      <th>Northern Mariana Islands</th>\n",
       "      <td>0.0</td>\n",
       "      <td>1</td>\n",
       "    </tr>\n",
       "    <tr>\n",
       "      <th>Guinea-Bissau</th>\n",
       "      <td>100.0</td>\n",
       "      <td>1</td>\n",
       "    </tr>\n",
       "    <tr>\n",
       "      <th>New Caledonia</th>\n",
       "      <td>0.0</td>\n",
       "      <td>1</td>\n",
       "    </tr>\n",
       "    <tr>\n",
       "      <th>México</th>\n",
       "      <td>0.0</td>\n",
       "      <td>1</td>\n",
       "    </tr>\n",
       "    <tr>\n",
       "      <th>Puerto Rico</th>\n",
       "      <td>0.0</td>\n",
       "      <td>1</td>\n",
       "    </tr>\n",
       "    <tr>\n",
       "      <th>Montenegro</th>\n",
       "      <td>100.0</td>\n",
       "      <td>1</td>\n",
       "    </tr>\n",
       "    <tr>\n",
       "      <th>SINGAPORE</th>\n",
       "      <td>100.0</td>\n",
       "      <td>1</td>\n",
       "    </tr>\n",
       "    <tr>\n",
       "      <th>Andorra</th>\n",
       "      <td>0.0</td>\n",
       "      <td>1</td>\n",
       "    </tr>\n",
       "    <tr>\n",
       "      <th>Saint Vincent and the Grenadines</th>\n",
       "      <td>0.0</td>\n",
       "      <td>1</td>\n",
       "    </tr>\n",
       "    <tr>\n",
       "      <th>Samoa</th>\n",
       "      <td>100.0</td>\n",
       "      <td>1</td>\n",
       "    </tr>\n",
       "    <tr>\n",
       "      <th>Saudi Arabia</th>\n",
       "      <td>0.0</td>\n",
       "      <td>1</td>\n",
       "    </tr>\n",
       "    <tr>\n",
       "      <th>Kyrgyzstan</th>\n",
       "      <td>0.0</td>\n",
       "      <td>1</td>\n",
       "    </tr>\n",
       "    <tr>\n",
       "      <th>Kuwait</th>\n",
       "      <td>0.0</td>\n",
       "      <td>1</td>\n",
       "    </tr>\n",
       "    <tr>\n",
       "      <th>Sierra Leone</th>\n",
       "      <td>100.0</td>\n",
       "      <td>1</td>\n",
       "    </tr>\n",
       "    <tr>\n",
       "      <th>Kazakhstan</th>\n",
       "      <td>0.0</td>\n",
       "      <td>1</td>\n",
       "    </tr>\n",
       "    <tr>\n",
       "      <th>Slovakia</th>\n",
       "      <td>100.0</td>\n",
       "      <td>1</td>\n",
       "    </tr>\n",
       "    <tr>\n",
       "      <th>Iceland</th>\n",
       "      <td>0.0</td>\n",
       "      <td>1</td>\n",
       "    </tr>\n",
       "    <tr>\n",
       "      <th>india</th>\n",
       "      <td>0.0</td>\n",
       "      <td>1</td>\n",
       "    </tr>\n",
       "  </tbody>\n",
       "</table>\n",
       "</div>"
      ],
      "text/plain": [
       "                                   rate  count\n",
       "countryRegion                                 \n",
       "Congo                               0.0      1\n",
       "Ghana                               0.0      1\n",
       "Northern Mariana Islands            0.0      1\n",
       "Guinea-Bissau                     100.0      1\n",
       "New Caledonia                       0.0      1\n",
       "México                              0.0      1\n",
       "Puerto Rico                         0.0      1\n",
       "Montenegro                        100.0      1\n",
       "SINGAPORE                         100.0      1\n",
       "Andorra                             0.0      1\n",
       "Saint Vincent and the Grenadines    0.0      1\n",
       "Samoa                             100.0      1\n",
       "Saudi Arabia                        0.0      1\n",
       "Kyrgyzstan                          0.0      1\n",
       "Kuwait                              0.0      1\n",
       "Sierra Leone                      100.0      1\n",
       "Kazakhstan                          0.0      1\n",
       "Slovakia                          100.0      1\n",
       "Iceland                             0.0      1\n",
       "india                               0.0      1"
      ]
     },
     "execution_count": 200,
     "metadata": {},
     "output_type": "execute_result"
    }
   ],
   "source": [
    "country.sort_values(by='count',ascending=False).tail(20)"
   ]
  },
  {
   "cell_type": "code",
   "execution_count": 201,
   "metadata": {
    "scrolled": true
   },
   "outputs": [
    {
     "data": {
      "text/plain": [
       "<Axes: xlabel='count', ylabel='rate'>"
      ]
     },
     "execution_count": 201,
     "metadata": {},
     "output_type": "execute_result"
    },
    {
     "data": {
      "image/png": "[encoded data removed]",
      "text/plain": [
       "<Figure size 640x480 with 1 Axes>"
      ]
     },
     "metadata": {},
     "output_type": "display_data"
    }
   ],
   "source": [
    "country.plot.scatter(x='count',y='rate')"
   ]
  },
  {
   "cell_type": "code",
   "execution_count": 202,
   "metadata": {
    "colab": {
     "base_uri": "https://localhost:8080/"
    },
    "id": "7cHyeHjMY15l",
    "outputId": "7bf3a20e-5244-43ad-bfb2-8a00d31d3d3f",
    "scrolled": true
   },
   "outputs": [
    {
     "data": {
      "text/plain": [
       "114"
      ]
     },
     "execution_count": 202,
     "metadata": {},
     "output_type": "execute_result"
    }
   ],
   "source": [
    "len(np.sort(df1.countryRegion.unique()))"
   ]
  },
  {
   "cell_type": "code",
   "execution_count": 203,
   "metadata": {},
   "outputs": [],
   "source": [
    "df1.countryRegion.replace({'Curaçao':'Curacao','México':'Mexico','india':'India'},inplace=True)"
   ]
  },
  {
   "cell_type": "markdown",
   "metadata": {},
   "source": [
    "### Datetime"
   ]
  },
  {
   "cell_type": "code",
   "execution_count": 204,
   "metadata": {},
   "outputs": [],
   "source": [
    "df1['startDate']=pd.to_datetime(df1['startDate'],dayfirst='True')\n",
    "df1['endDate']=pd.to_datetime(df1['endDate'],dayfirst='True')"
   ]
  },
  {
   "cell_type": "code",
   "execution_count": 205,
   "metadata": {},
   "outputs": [],
   "source": [
    "time=df1['endDate']-df1['startDate']\n",
    "time=time.astype('int64')\n",
    "time_ind=time[time<0].index"
   ]
  },
  {
   "cell_type": "code",
   "execution_count": 206,
   "metadata": {},
   "outputs": [],
   "source": [
    "time=df1['endDate']-df1['startDate']\n",
    "df1['time']=time.dt.days"
   ]
  },
  {
   "cell_type": "code",
   "execution_count": 207,
   "metadata": {},
   "outputs": [],
   "source": [
    "df1=df1.drop(labels=time_ind)"
   ]
  },
  {
   "cell_type": "code",
   "execution_count": 208,
   "metadata": {},
   "outputs": [
    {
     "data": {
      "text/plain": [
       "Index(['ID', 'success', 'brandSlogan', 'hasVideo', 'rating', 'priceUSD',\n",
       "       'countryRegion', 'startDate', 'endDate', 'teamSize', 'hasGithub',\n",
       "       'hasReddit', 'platform', 'coinNum', 'minInvestment',\n",
       "       'distributedPercentage', 'TotalInv', 'time'],\n",
       "      dtype='object')"
      ]
     },
     "execution_count": 208,
     "metadata": {},
     "output_type": "execute_result"
    }
   ],
   "source": [
    "df1.columns"
   ]
  },
  {
   "cell_type": "markdown",
   "metadata": {},
   "source": [
    "### Drop percentage"
   ]
  },
  {
   "cell_type": "code",
   "execution_count": 209,
   "metadata": {},
   "outputs": [
    {
     "data": {
      "text/html": [
       "<div>\n",
       "<style scoped>\n",
       "    .dataframe tbody tr th:only-of-type {\n",
       "        vertical-align: middle;\n",
       "    }\n",
       "\n",
       "    .dataframe tbody tr th {\n",
       "        vertical-align: top;\n",
       "    }\n",
       "\n",
       "    .dataframe thead th {\n",
       "        text-align: right;\n",
       "    }\n",
       "</style>\n",
       "<table border=\"1\" class=\"dataframe\">\n",
       "  <thead>\n",
       "    <tr style=\"text-align: right;\">\n",
       "      <th></th>\n",
       "      <th>ID</th>\n",
       "      <th>success</th>\n",
       "      <th>brandSlogan</th>\n",
       "      <th>hasVideo</th>\n",
       "      <th>rating</th>\n",
       "      <th>priceUSD</th>\n",
       "      <th>countryRegion</th>\n",
       "      <th>startDate</th>\n",
       "      <th>endDate</th>\n",
       "      <th>teamSize</th>\n",
       "      <th>hasGithub</th>\n",
       "      <th>hasReddit</th>\n",
       "      <th>platform</th>\n",
       "      <th>coinNum</th>\n",
       "      <th>minInvestment</th>\n",
       "      <th>distributedPercentage</th>\n",
       "      <th>TotalInv</th>\n",
       "      <th>time</th>\n",
       "    </tr>\n",
       "  </thead>\n",
       "  <tbody>\n",
       "    <tr>\n",
       "      <th>98</th>\n",
       "      <td>99</td>\n",
       "      <td>1</td>\n",
       "      <td>iCoin ICO - backed by real diamond mining.</td>\n",
       "      <td>1</td>\n",
       "      <td>4.1</td>\n",
       "      <td>1.00</td>\n",
       "      <td>Sierra Leone</td>\n",
       "      <td>2019-08-05</td>\n",
       "      <td>2019-10-21</td>\n",
       "      <td>13.0</td>\n",
       "      <td>1</td>\n",
       "      <td>1</td>\n",
       "      <td>Ethereum</td>\n",
       "      <td>1.000000e+07</td>\n",
       "      <td>1</td>\n",
       "      <td>1.66</td>\n",
       "      <td>10000000.0</td>\n",
       "      <td>77</td>\n",
       "    </tr>\n",
       "    <tr>\n",
       "      <th>541</th>\n",
       "      <td>542</td>\n",
       "      <td>0</td>\n",
       "      <td>Get Noticed!</td>\n",
       "      <td>1</td>\n",
       "      <td>3.8</td>\n",
       "      <td>0.39</td>\n",
       "      <td>Canada</td>\n",
       "      <td>2019-04-06</td>\n",
       "      <td>2019-07-15</td>\n",
       "      <td>10.0</td>\n",
       "      <td>1</td>\n",
       "      <td>1</td>\n",
       "      <td>NEO</td>\n",
       "      <td>4.000000e+06</td>\n",
       "      <td>1</td>\n",
       "      <td>4.00</td>\n",
       "      <td>1560000.0</td>\n",
       "      <td>100</td>\n",
       "    </tr>\n",
       "    <tr>\n",
       "      <th>680</th>\n",
       "      <td>681</td>\n",
       "      <td>0</td>\n",
       "      <td>It's time to create your token</td>\n",
       "      <td>1</td>\n",
       "      <td>3.7</td>\n",
       "      <td>0.02</td>\n",
       "      <td>France</td>\n",
       "      <td>2019-11-04</td>\n",
       "      <td>2020-01-30</td>\n",
       "      <td>8.0</td>\n",
       "      <td>0</td>\n",
       "      <td>1</td>\n",
       "      <td>Waves</td>\n",
       "      <td>2.000000e+07</td>\n",
       "      <td>1</td>\n",
       "      <td>9.52</td>\n",
       "      <td>400000.0</td>\n",
       "      <td>87</td>\n",
       "    </tr>\n",
       "    <tr>\n",
       "      <th>946</th>\n",
       "      <td>947</td>\n",
       "      <td>1</td>\n",
       "      <td>Welcome to Play2Live!</td>\n",
       "      <td>1</td>\n",
       "      <td>4.1</td>\n",
       "      <td>0.05</td>\n",
       "      <td>Malta</td>\n",
       "      <td>2018-02-21</td>\n",
       "      <td>2018-03-14</td>\n",
       "      <td>23.0</td>\n",
       "      <td>0</td>\n",
       "      <td>0</td>\n",
       "      <td>Ethereum</td>\n",
       "      <td>1.308800e+09</td>\n",
       "      <td>1</td>\n",
       "      <td>62.50</td>\n",
       "      <td>65440000.0</td>\n",
       "      <td>21</td>\n",
       "    </tr>\n",
       "    <tr>\n",
       "      <th>964</th>\n",
       "      <td>965</td>\n",
       "      <td>0</td>\n",
       "      <td>The Coin You Can Bank On</td>\n",
       "      <td>1</td>\n",
       "      <td>3.5</td>\n",
       "      <td>2.88</td>\n",
       "      <td>Thailand</td>\n",
       "      <td>2018-06-01</td>\n",
       "      <td>2018-06-30</td>\n",
       "      <td>7.0</td>\n",
       "      <td>1</td>\n",
       "      <td>1</td>\n",
       "      <td>others</td>\n",
       "      <td>6.656250e+06</td>\n",
       "      <td>0</td>\n",
       "      <td>266.25</td>\n",
       "      <td>19170000.0</td>\n",
       "      <td>29</td>\n",
       "    </tr>\n",
       "    <tr>\n",
       "      <th>1029</th>\n",
       "      <td>1030</td>\n",
       "      <td>0</td>\n",
       "      <td>Create Artificial Intelligence And Make Money ...</td>\n",
       "      <td>1</td>\n",
       "      <td>3.3</td>\n",
       "      <td>0.50</td>\n",
       "      <td>Switzerland</td>\n",
       "      <td>2019-11-15</td>\n",
       "      <td>2020-05-15</td>\n",
       "      <td>7.0</td>\n",
       "      <td>1</td>\n",
       "      <td>1</td>\n",
       "      <td>Ethereum</td>\n",
       "      <td>1.739500e+07</td>\n",
       "      <td>0</td>\n",
       "      <td>869.75</td>\n",
       "      <td>8697500.0</td>\n",
       "      <td>182</td>\n",
       "    </tr>\n",
       "    <tr>\n",
       "      <th>1403</th>\n",
       "      <td>1404</td>\n",
       "      <td>0</td>\n",
       "      <td>A new way to contribute to innovation</td>\n",
       "      <td>1</td>\n",
       "      <td>3.0</td>\n",
       "      <td>0.10</td>\n",
       "      <td>United Arab Emirates</td>\n",
       "      <td>2017-07-10</td>\n",
       "      <td>2017-08-11</td>\n",
       "      <td>9.0</td>\n",
       "      <td>1</td>\n",
       "      <td>1</td>\n",
       "      <td>Ethereum</td>\n",
       "      <td>3.000000e+06</td>\n",
       "      <td>0</td>\n",
       "      <td>20.00</td>\n",
       "      <td>300000.0</td>\n",
       "      <td>32</td>\n",
       "    </tr>\n",
       "    <tr>\n",
       "      <th>1655</th>\n",
       "      <td>1656</td>\n",
       "      <td>0</td>\n",
       "      <td>ZooomEx - Your Great Choice</td>\n",
       "      <td>0</td>\n",
       "      <td>4.2</td>\n",
       "      <td>0.03</td>\n",
       "      <td>Russia</td>\n",
       "      <td>2019-08-19</td>\n",
       "      <td>2019-08-31</td>\n",
       "      <td>3.0</td>\n",
       "      <td>0</td>\n",
       "      <td>0</td>\n",
       "      <td>Ethereum</td>\n",
       "      <td>5.000000e+07</td>\n",
       "      <td>0</td>\n",
       "      <td>50.00</td>\n",
       "      <td>1500000.0</td>\n",
       "      <td>12</td>\n",
       "    </tr>\n",
       "    <tr>\n",
       "      <th>1987</th>\n",
       "      <td>1988</td>\n",
       "      <td>1</td>\n",
       "      <td>First ICO for Adult Entertainment</td>\n",
       "      <td>0</td>\n",
       "      <td>2.7</td>\n",
       "      <td>2.75</td>\n",
       "      <td>Estonia</td>\n",
       "      <td>2017-07-20</td>\n",
       "      <td>2017-08-29</td>\n",
       "      <td>9.0</td>\n",
       "      <td>0</td>\n",
       "      <td>0</td>\n",
       "      <td>Ethereum</td>\n",
       "      <td>3.000000e+06</td>\n",
       "      <td>1</td>\n",
       "      <td>60.00</td>\n",
       "      <td>8250000.0</td>\n",
       "      <td>40</td>\n",
       "    </tr>\n",
       "  </tbody>\n",
       "</table>\n",
       "</div>"
      ],
      "text/plain": [
       "        ID  success                                        brandSlogan  \\\n",
       "98      99        1         iCoin ICO - backed by real diamond mining.   \n",
       "541    542        0                                       Get Noticed!   \n",
       "680    681        0                     It's time to create your token   \n",
       "946    947        1                              Welcome to Play2Live!   \n",
       "964    965        0                           The Coin You Can Bank On   \n",
       "1029  1030        0  Create Artificial Intelligence And Make Money ...   \n",
       "1403  1404        0              A new way to contribute to innovation   \n",
       "1655  1656        0                        ZooomEx - Your Great Choice   \n",
       "1987  1988        1                  First ICO for Adult Entertainment   \n",
       "\n",
       "      hasVideo  rating  priceUSD         countryRegion  startDate    endDate  \\\n",
       "98           1     4.1      1.00          Sierra Leone 2019-08-05 2019-10-21   \n",
       "541          1     3.8      0.39                Canada 2019-04-06 2019-07-15   \n",
       "680          1     3.7      0.02                France 2019-11-04 2020-01-30   \n",
       "946          1     4.1      0.05                 Malta 2018-02-21 2018-03-14   \n",
       "964          1     3.5      2.88              Thailand 2018-06-01 2018-06-30   \n",
       "1029         1     3.3      0.50           Switzerland 2019-11-15 2020-05-15   \n",
       "1403         1     3.0      0.10  United Arab Emirates 2017-07-10 2017-08-11   \n",
       "1655         0     4.2      0.03                Russia 2019-08-19 2019-08-31   \n",
       "1987         0     2.7      2.75               Estonia 2017-07-20 2017-08-29   \n",
       "\n",
       "      teamSize  hasGithub  hasReddit  platform       coinNum  minInvestment  \\\n",
       "98        13.0          1          1  Ethereum  1.000000e+07              1   \n",
       "541       10.0          1          1       NEO  4.000000e+06              1   \n",
       "680        8.0          0          1     Waves  2.000000e+07              1   \n",
       "946       23.0          0          0  Ethereum  1.308800e+09              1   \n",
       "964        7.0          1          1    others  6.656250e+06              0   \n",
       "1029       7.0          1          1  Ethereum  1.739500e+07              0   \n",
       "1403       9.0          1          1  Ethereum  3.000000e+06              0   \n",
       "1655       3.0          0          0  Ethereum  5.000000e+07              0   \n",
       "1987       9.0          0          0  Ethereum  3.000000e+06              1   \n",
       "\n",
       "      distributedPercentage    TotalInv  time  \n",
       "98                     1.66  10000000.0    77  \n",
       "541                    4.00   1560000.0   100  \n",
       "680                    9.52    400000.0    87  \n",
       "946                   62.50  65440000.0    21  \n",
       "964                  266.25  19170000.0    29  \n",
       "1029                 869.75   8697500.0   182  \n",
       "1403                  20.00    300000.0    32  \n",
       "1655                  50.00   1500000.0    12  \n",
       "1987                  60.00   8250000.0    40  "
      ]
     },
     "execution_count": 209,
     "metadata": {},
     "output_type": "execute_result"
    }
   ],
   "source": [
    "df1[df1.distributedPercentage>1]"
   ]
  },
  {
   "cell_type": "code",
   "execution_count": 210,
   "metadata": {},
   "outputs": [],
   "source": [
    "df1.drop(labels=df1[df1.distributedPercentage>1].index,axis=0,inplace=True)"
   ]
  },
  {
   "cell_type": "code",
   "execution_count": null,
   "metadata": {},
   "outputs": [],
   "source": []
  },
  {
   "cell_type": "markdown",
   "metadata": {},
   "source": [
    "## One-hot encoding"
   ]
  },
  {
   "cell_type": "code",
   "execution_count": 211,
   "metadata": {},
   "outputs": [],
   "source": [
    "df1.drop('ID',axis=1,inplace=True)"
   ]
  },
  {
   "cell_type": "code",
   "execution_count": 212,
   "metadata": {},
   "outputs": [],
   "source": [
    "df1.drop(['brandSlogan','startDate','endDate'],axis=1,inplace=True)"
   ]
  },
  {
   "cell_type": "code",
   "execution_count": 213,
   "metadata": {},
   "outputs": [
    {
     "data": {
      "text/plain": [
       "(2372, 14)"
      ]
     },
     "execution_count": 213,
     "metadata": {},
     "output_type": "execute_result"
    }
   ],
   "source": [
    "df1.shape"
   ]
  },
  {
   "cell_type": "code",
   "execution_count": 214,
   "metadata": {},
   "outputs": [
    {
     "data": {
      "text/html": [
       "<div>\n",
       "<style scoped>\n",
       "    .dataframe tbody tr th:only-of-type {\n",
       "        vertical-align: middle;\n",
       "    }\n",
       "\n",
       "    .dataframe tbody tr th {\n",
       "        vertical-align: top;\n",
       "    }\n",
       "\n",
       "    .dataframe thead th {\n",
       "        text-align: right;\n",
       "    }\n",
       "</style>\n",
       "<table border=\"1\" class=\"dataframe\">\n",
       "  <thead>\n",
       "    <tr style=\"text-align: right;\">\n",
       "      <th></th>\n",
       "      <th>success</th>\n",
       "      <th>hasVideo</th>\n",
       "      <th>rating</th>\n",
       "      <th>priceUSD</th>\n",
       "      <th>countryRegion</th>\n",
       "      <th>teamSize</th>\n",
       "      <th>hasGithub</th>\n",
       "      <th>hasReddit</th>\n",
       "      <th>platform</th>\n",
       "      <th>coinNum</th>\n",
       "      <th>minInvestment</th>\n",
       "      <th>distributedPercentage</th>\n",
       "      <th>TotalInv</th>\n",
       "      <th>time</th>\n",
       "    </tr>\n",
       "  </thead>\n",
       "  <tbody>\n",
       "    <tr>\n",
       "      <th>0</th>\n",
       "      <td>0</td>\n",
       "      <td>1</td>\n",
       "      <td>4.0</td>\n",
       "      <td>30.00</td>\n",
       "      <td>Singapore</td>\n",
       "      <td>31.0</td>\n",
       "      <td>1</td>\n",
       "      <td>1</td>\n",
       "      <td>Ethereum</td>\n",
       "      <td>5.099990e+05</td>\n",
       "      <td>0</td>\n",
       "      <td>0.49</td>\n",
       "      <td>15299970.0</td>\n",
       "      <td>0</td>\n",
       "    </tr>\n",
       "    <tr>\n",
       "      <th>1</th>\n",
       "      <td>0</td>\n",
       "      <td>1</td>\n",
       "      <td>4.3</td>\n",
       "      <td>0.13</td>\n",
       "      <td>Malta</td>\n",
       "      <td>20.0</td>\n",
       "      <td>1</td>\n",
       "      <td>1</td>\n",
       "      <td>others</td>\n",
       "      <td>2.250000e+08</td>\n",
       "      <td>1</td>\n",
       "      <td>0.41</td>\n",
       "      <td>29250000.0</td>\n",
       "      <td>35</td>\n",
       "    </tr>\n",
       "    <tr>\n",
       "      <th>2</th>\n",
       "      <td>0</td>\n",
       "      <td>1</td>\n",
       "      <td>4.4</td>\n",
       "      <td>0.01</td>\n",
       "      <td>UK</td>\n",
       "      <td>10.0</td>\n",
       "      <td>1</td>\n",
       "      <td>1</td>\n",
       "      <td>Stellar</td>\n",
       "      <td>5.000000e+09</td>\n",
       "      <td>1</td>\n",
       "      <td>0.40</td>\n",
       "      <td>50000000.0</td>\n",
       "      <td>365</td>\n",
       "    </tr>\n",
       "    <tr>\n",
       "      <th>4</th>\n",
       "      <td>0</td>\n",
       "      <td>1</td>\n",
       "      <td>4.3</td>\n",
       "      <td>0.03</td>\n",
       "      <td>Mauritius</td>\n",
       "      <td>14.0</td>\n",
       "      <td>1</td>\n",
       "      <td>1</td>\n",
       "      <td>Ethereum</td>\n",
       "      <td>5.000000e+09</td>\n",
       "      <td>1</td>\n",
       "      <td>0.50</td>\n",
       "      <td>150000000.0</td>\n",
       "      <td>125</td>\n",
       "    </tr>\n",
       "    <tr>\n",
       "      <th>5</th>\n",
       "      <td>0</td>\n",
       "      <td>1</td>\n",
       "      <td>4.7</td>\n",
       "      <td>0.10</td>\n",
       "      <td>UK</td>\n",
       "      <td>43.0</td>\n",
       "      <td>1</td>\n",
       "      <td>1</td>\n",
       "      <td>Ethereum</td>\n",
       "      <td>5.000000e+08</td>\n",
       "      <td>1</td>\n",
       "      <td>0.50</td>\n",
       "      <td>50000000.0</td>\n",
       "      <td>126</td>\n",
       "    </tr>\n",
       "  </tbody>\n",
       "</table>\n",
       "</div>"
      ],
      "text/plain": [
       "   success  hasVideo  rating  priceUSD countryRegion  teamSize  hasGithub  \\\n",
       "0        0         1     4.0     30.00     Singapore      31.0          1   \n",
       "1        0         1     4.3      0.13         Malta      20.0          1   \n",
       "2        0         1     4.4      0.01            UK      10.0          1   \n",
       "4        0         1     4.3      0.03     Mauritius      14.0          1   \n",
       "5        0         1     4.7      0.10            UK      43.0          1   \n",
       "\n",
       "   hasReddit  platform       coinNum  minInvestment  distributedPercentage  \\\n",
       "0          1  Ethereum  5.099990e+05              0                   0.49   \n",
       "1          1    others  2.250000e+08              1                   0.41   \n",
       "2          1   Stellar  5.000000e+09              1                   0.40   \n",
       "4          1  Ethereum  5.000000e+09              1                   0.50   \n",
       "5          1  Ethereum  5.000000e+08              1                   0.50   \n",
       "\n",
       "      TotalInv  time  \n",
       "0   15299970.0     0  \n",
       "1   29250000.0    35  \n",
       "2   50000000.0   365  \n",
       "4  150000000.0   125  \n",
       "5   50000000.0   126  "
      ]
     },
     "execution_count": 214,
     "metadata": {},
     "output_type": "execute_result"
    }
   ],
   "source": [
    "df1.head()"
   ]
  },
  {
   "cell_type": "code",
   "execution_count": 383,
   "metadata": {
    "scrolled": true
   },
   "outputs": [
    {
     "data": {
      "text/plain": [
       "1000.0"
      ]
     },
     "execution_count": 383,
     "metadata": {},
     "output_type": "execute_result"
    }
   ],
   "source": [
    "df_f=pd.get_dummies(df1,columns=['platform','countryRegion'])\n",
    "df_f.priceUSD.max()"
   ]
  },
  {
   "cell_type": "code",
   "execution_count": 216,
   "metadata": {
    "scrolled": true
   },
   "outputs": [
    {
     "data": {
      "text/plain": [
       "39.50252951096122"
      ]
     },
     "execution_count": 216,
     "metadata": {},
     "output_type": "execute_result"
    }
   ],
   "source": [
    "df_f.success.sum()/23.72"
   ]
  },
  {
   "cell_type": "code",
   "execution_count": 217,
   "metadata": {},
   "outputs": [
    {
     "data": {
      "text/plain": [
       "(2372, 170)"
      ]
     },
     "execution_count": 217,
     "metadata": {},
     "output_type": "execute_result"
    }
   ],
   "source": [
    "df_f.shape"
   ]
  },
  {
   "cell_type": "markdown",
   "metadata": {},
   "source": [
    "# Modelling"
   ]
  },
  {
   "cell_type": "code",
   "execution_count": 384,
   "metadata": {},
   "outputs": [],
   "source": [
    "X=df_f[df_f.columns[1:]]\n",
    "Y=df_f[df_f.columns[0]]"
   ]
  },
  {
   "cell_type": "code",
   "execution_count": 219,
   "metadata": {},
   "outputs": [
    {
     "data": {
      "text/plain": [
       "(2372, 169)"
      ]
     },
     "execution_count": 219,
     "metadata": {},
     "output_type": "execute_result"
    }
   ],
   "source": [
    "X.shape"
   ]
  },
  {
   "cell_type": "code",
   "execution_count": 220,
   "metadata": {},
   "outputs": [],
   "source": [
    "from math import sqrt\n",
    "#no_f=int(sqrt(df_f.shape[1]))\n",
    "no_f=30"
   ]
  },
  {
   "cell_type": "code",
   "execution_count": 221,
   "metadata": {},
   "outputs": [],
   "source": [
    "model1=RandomForestClassifier(max_features=no_f,oob_score=True,min_samples_leaf=5,n_estimators=75,max_samples=1500)"
   ]
  },
  {
   "cell_type": "code",
   "execution_count": 222,
   "metadata": {},
   "outputs": [],
   "source": [
    "model1=model1.fit(X,Y)"
   ]
  },
  {
   "cell_type": "code",
   "execution_count": 223,
   "metadata": {
    "scrolled": true
   },
   "outputs": [
    {
     "data": {
      "text/plain": [
       "0.6572512647554806"
      ]
     },
     "execution_count": 223,
     "metadata": {},
     "output_type": "execute_result"
    }
   ],
   "source": [
    "model1.oob_score_"
   ]
  },
  {
   "cell_type": "code",
   "execution_count": 385,
   "metadata": {},
   "outputs": [],
   "source": [
    "X_train, X_test, Y_train, Y_test = train_test_split(\n",
    "...     X, Y, test_size=0.20, random_state=42)"
   ]
  },
  {
   "cell_type": "code",
   "execution_count": 386,
   "metadata": {},
   "outputs": [],
   "source": [
    "model2=RandomForestClassifier(max_features=20,oob_score=True,min_samples_leaf=2,n_estimators=50,max_samples=1000)"
   ]
  },
  {
   "cell_type": "code",
   "execution_count": 387,
   "metadata": {},
   "outputs": [],
   "source": [
    "model2=model2.fit(X_train,Y_train)"
   ]
  },
  {
   "cell_type": "code",
   "execution_count": 388,
   "metadata": {
    "scrolled": true
   },
   "outputs": [
    {
     "data": {
      "text/plain": [
       "0.6645569620253164"
      ]
     },
     "execution_count": 388,
     "metadata": {},
     "output_type": "execute_result"
    }
   ],
   "source": [
    "model2.oob_score_"
   ]
  },
  {
   "cell_type": "code",
   "execution_count": 389,
   "metadata": {},
   "outputs": [],
   "source": [
    "Y_pred=model2.predict(X_test)"
   ]
  },
  {
   "cell_type": "code",
   "execution_count": 390,
   "metadata": {},
   "outputs": [
    {
     "data": {
      "text/plain": [
       "137"
      ]
     },
     "execution_count": 390,
     "metadata": {},
     "output_type": "execute_result"
    }
   ],
   "source": [
    "model2.predict(X_test).sum()"
   ]
  },
  {
   "cell_type": "code",
   "execution_count": 391,
   "metadata": {},
   "outputs": [
    {
     "data": {
      "text/plain": [
       "array([[222,  56],\n",
       "       [116,  81]], dtype=int64)"
      ]
     },
     "execution_count": 391,
     "metadata": {},
     "output_type": "execute_result"
    }
   ],
   "source": [
    "cm=confusion_matrix(Y_test,Y_pred)\n",
    "cm"
   ]
  },
  {
   "cell_type": "code",
   "execution_count": 392,
   "metadata": {},
   "outputs": [
    {
     "data": {
      "text/plain": [
       "0.6378947368421053"
      ]
     },
     "execution_count": 392,
     "metadata": {},
     "output_type": "execute_result"
    }
   ],
   "source": [
    "skm.accuracy_score(Y_test,Y_pred)"
   ]
  },
  {
   "cell_type": "code",
   "execution_count": 393,
   "metadata": {
    "scrolled": true
   },
   "outputs": [
    {
     "data": {
      "text/plain": [
       "(array([0.65680473, 0.59124088]),\n",
       " array([0.79856115, 0.41116751]),\n",
       " array([0.72077922, 0.48502994]),\n",
       " array([278, 197], dtype=int64))"
      ]
     },
     "execution_count": 393,
     "metadata": {},
     "output_type": "execute_result"
    }
   ],
   "source": [
    "skm.precision_recall_fscore_support(Y_test,Y_pred)"
   ]
  },
  {
   "cell_type": "markdown",
   "metadata": {
    "jp-MarkdownHeadingCollapsed": true
   },
   "source": [
    "### Oversampling"
   ]
  },
  {
   "cell_type": "code",
   "execution_count": 236,
   "metadata": {},
   "outputs": [],
   "source": [
    "oversamp=SMOTE()"
   ]
  },
  {
   "cell_type": "code",
   "execution_count": 237,
   "metadata": {},
   "outputs": [],
   "source": [
    "X_train_os, Y_train_os = oversamp.fit_resample(X_train, Y_train)"
   ]
  },
  {
   "cell_type": "code",
   "execution_count": 238,
   "metadata": {},
   "outputs": [
    {
     "data": {
      "text/plain": [
       "(1897, 169)"
      ]
     },
     "execution_count": 238,
     "metadata": {},
     "output_type": "execute_result"
    }
   ],
   "source": [
    "X_train.shape"
   ]
  },
  {
   "cell_type": "code",
   "execution_count": 239,
   "metadata": {},
   "outputs": [
    {
     "data": {
      "text/plain": [
       "(2310, 169)"
      ]
     },
     "execution_count": 239,
     "metadata": {},
     "output_type": "execute_result"
    }
   ],
   "source": [
    "X_train_os.shape"
   ]
  },
  {
   "cell_type": "code",
   "execution_count": 240,
   "metadata": {},
   "outputs": [
    {
     "data": {
      "text/plain": [
       "(2310,)"
      ]
     },
     "execution_count": 240,
     "metadata": {},
     "output_type": "execute_result"
    }
   ],
   "source": [
    "Y_train_os.shape"
   ]
  },
  {
   "cell_type": "code",
   "execution_count": 241,
   "metadata": {
    "scrolled": true
   },
   "outputs": [
    {
     "data": {
      "text/plain": [
       "1155"
      ]
     },
     "execution_count": 241,
     "metadata": {},
     "output_type": "execute_result"
    }
   ],
   "source": [
    "Y_train_os.sum()"
   ]
  },
  {
   "cell_type": "code",
   "execution_count": 242,
   "metadata": {
    "scrolled": true
   },
   "outputs": [
    {
     "data": {
      "text/plain": [
       "742"
      ]
     },
     "execution_count": 242,
     "metadata": {},
     "output_type": "execute_result"
    }
   ],
   "source": [
    "Y_train.sum()"
   ]
  },
  {
   "cell_type": "code",
   "execution_count": null,
   "metadata": {},
   "outputs": [],
   "source": []
  },
  {
   "cell_type": "code",
   "execution_count": 243,
   "metadata": {},
   "outputs": [],
   "source": [
    "model3=RandomForestClassifier(max_features=no_f,oob_score=True,min_samples_leaf=5,n_estimators=50,max_samples=1500)"
   ]
  },
  {
   "cell_type": "code",
   "execution_count": 244,
   "metadata": {},
   "outputs": [],
   "source": [
    "model3=model3.fit(X_train_os,Y_train_os)"
   ]
  },
  {
   "cell_type": "code",
   "execution_count": 245,
   "metadata": {
    "scrolled": true
   },
   "outputs": [
    {
     "data": {
      "text/plain": [
       "0.6831168831168831"
      ]
     },
     "execution_count": 245,
     "metadata": {},
     "output_type": "execute_result"
    }
   ],
   "source": [
    "model3.oob_score_"
   ]
  },
  {
   "cell_type": "code",
   "execution_count": 246,
   "metadata": {},
   "outputs": [],
   "source": [
    "Y_pred_os=model3.predict(X_test)"
   ]
  },
  {
   "cell_type": "code",
   "execution_count": 247,
   "metadata": {},
   "outputs": [],
   "source": [
    "cm=confusion_matrix(Y_test,Y_pred_os)"
   ]
  },
  {
   "cell_type": "code",
   "execution_count": 248,
   "metadata": {},
   "outputs": [
    {
     "data": {
      "text/plain": [
       "array([[182,  98],\n",
       "       [ 72, 123]], dtype=int64)"
      ]
     },
     "execution_count": 248,
     "metadata": {},
     "output_type": "execute_result"
    }
   ],
   "source": [
    "cm"
   ]
  },
  {
   "cell_type": "code",
   "execution_count": 249,
   "metadata": {},
   "outputs": [
    {
     "data": {
      "text/plain": [
       "0.6421052631578947"
      ]
     },
     "execution_count": 249,
     "metadata": {},
     "output_type": "execute_result"
    }
   ],
   "source": [
    "skm.accuracy_score(Y_test,Y_pred_os)"
   ]
  },
  {
   "cell_type": "code",
   "execution_count": 250,
   "metadata": {},
   "outputs": [
    {
     "data": {
      "text/plain": [
       "0.6421052631578947"
      ]
     },
     "execution_count": 250,
     "metadata": {},
     "output_type": "execute_result"
    }
   ],
   "source": [
    "skm.accuracy_score(Y_test,Y_pred_os)"
   ]
  },
  {
   "cell_type": "code",
   "execution_count": 251,
   "metadata": {},
   "outputs": [
    {
     "data": {
      "text/plain": [
       "(array([0.71653543, 0.55656109]),\n",
       " array([0.65      , 0.63076923]),\n",
       " array([0.68164794, 0.59134615]),\n",
       " array([280, 195], dtype=int64))"
      ]
     },
     "execution_count": 251,
     "metadata": {},
     "output_type": "execute_result"
    }
   ],
   "source": [
    "skm.precision_recall_fscore_support(Y_test,Y_pred_os)"
   ]
  },
  {
   "cell_type": "markdown",
   "metadata": {},
   "source": [
    "### SVM"
   ]
  },
  {
   "cell_type": "code",
   "execution_count": 327,
   "metadata": {},
   "outputs": [],
   "source": [
    "normalized_df=df_f.astype('float64')"
   ]
  },
  {
   "cell_type": "code",
   "execution_count": 328,
   "metadata": {},
   "outputs": [],
   "source": [
    "normalized_df=(normalized_df-normalized_df.min())/(normalized_df.max()-normalized_df.min())"
   ]
  },
  {
   "cell_type": "code",
   "execution_count": 330,
   "metadata": {},
   "outputs": [],
   "source": [
    "X1=normalized_df[normalized_df.columns[1:]]\n",
    "Y1=normalized_df[normalized_df.columns[0]]"
   ]
  },
  {
   "cell_type": "code",
   "execution_count": 340,
   "metadata": {},
   "outputs": [],
   "source": [
    "X1_train, X1_test, Y1_train, Y1_test = train_test_split(\n",
    "...     X1, Y1, test_size=0.20, random_state=42)"
   ]
  },
  {
   "cell_type": "code",
   "execution_count": 448,
   "metadata": {},
   "outputs": [],
   "source": [
    "model4=SVC(C=0.5,kernel='poly',class_weight='balanced',probability=True)"
   ]
  },
  {
   "cell_type": "code",
   "execution_count": 449,
   "metadata": {},
   "outputs": [],
   "source": [
    "model4=model4.fit(X1_train,Y1_train)"
   ]
  },
  {
   "cell_type": "code",
   "execution_count": 450,
   "metadata": {},
   "outputs": [
    {
     "data": {
      "text/plain": [
       "224.0"
      ]
     },
     "execution_count": 450,
     "metadata": {},
     "output_type": "execute_result"
    }
   ],
   "source": [
    "Y1_pred=model4.predict(X1_test)\n",
    "Y1_pred.sum()"
   ]
  },
  {
   "cell_type": "code",
   "execution_count": 451,
   "metadata": {},
   "outputs": [
    {
     "data": {
      "text/plain": [
       "845.0"
      ]
     },
     "execution_count": 451,
     "metadata": {},
     "output_type": "execute_result"
    }
   ],
   "source": [
    "model4.predict(X1_train).sum()"
   ]
  },
  {
   "cell_type": "code",
   "execution_count": 452,
   "metadata": {},
   "outputs": [
    {
     "data": {
      "text/plain": [
       "array([[176, 104],\n",
       "       [ 75, 120]], dtype=int64)"
      ]
     },
     "execution_count": 452,
     "metadata": {},
     "output_type": "execute_result"
    }
   ],
   "source": [
    "cm1=confusion_matrix(Y1_test,Y1_pred)\n",
    "cm1"
   ]
  },
  {
   "cell_type": "code",
   "execution_count": 453,
   "metadata": {},
   "outputs": [
    {
     "data": {
      "text/plain": [
       "0.6231578947368421"
      ]
     },
     "execution_count": 453,
     "metadata": {},
     "output_type": "execute_result"
    }
   ],
   "source": [
    "skm.accuracy_score(Y1_test,Y1_pred)"
   ]
  },
  {
   "cell_type": "code",
   "execution_count": 454,
   "metadata": {},
   "outputs": [
    {
     "data": {
      "text/plain": [
       "(array([0.70119522, 0.53571429]),\n",
       " array([0.62857143, 0.61538462]),\n",
       " array([0.66290019, 0.57279236]),\n",
       " array([280, 195], dtype=int64))"
      ]
     },
     "execution_count": 454,
     "metadata": {},
     "output_type": "execute_result"
    }
   ],
   "source": [
    "skm.precision_recall_fscore_support(Y1_test,Y1_pred)"
   ]
  },
  {
   "cell_type": "markdown",
   "metadata": {
    "jp-MarkdownHeadingCollapsed": true
   },
   "source": [
    "### Undersampling"
   ]
  },
  {
   "cell_type": "code",
   "execution_count": 260,
   "metadata": {},
   "outputs": [],
   "source": [
    "rus=RandomUnderSampler(random_state=40)\n",
    "X_train_us,Y_train_us=rus.fit_resample(X_train,Y_train)"
   ]
  },
  {
   "cell_type": "code",
   "execution_count": 261,
   "metadata": {
    "scrolled": true
   },
   "outputs": [
    {
     "data": {
      "text/plain": [
       "742"
      ]
     },
     "execution_count": 261,
     "metadata": {},
     "output_type": "execute_result"
    }
   ],
   "source": [
    "Y_train_us.sum()"
   ]
  },
  {
   "cell_type": "code",
   "execution_count": 262,
   "metadata": {},
   "outputs": [],
   "source": [
    "model5=RandomForestClassifier(max_features=no_f,oob_score=True,min_samples_leaf=5,n_estimators=45,max_samples=1000)"
   ]
  },
  {
   "cell_type": "code",
   "execution_count": 263,
   "metadata": {},
   "outputs": [],
   "source": [
    "model5=model5.fit(X_train_us,Y_train_us)"
   ]
  },
  {
   "cell_type": "code",
   "execution_count": 264,
   "metadata": {
    "scrolled": true
   },
   "outputs": [
    {
     "data": {
      "text/plain": [
       "0.6495956873315364"
      ]
     },
     "execution_count": 264,
     "metadata": {},
     "output_type": "execute_result"
    }
   ],
   "source": [
    "model5.oob_score_"
   ]
  },
  {
   "cell_type": "code",
   "execution_count": 265,
   "metadata": {},
   "outputs": [],
   "source": [
    "Y_pred_us=model5.predict(X_test)"
   ]
  },
  {
   "cell_type": "code",
   "execution_count": 266,
   "metadata": {},
   "outputs": [],
   "source": [
    "cm=confusion_matrix(Y_test,Y_pred_us)"
   ]
  },
  {
   "cell_type": "code",
   "execution_count": 267,
   "metadata": {},
   "outputs": [
    {
     "data": {
      "text/plain": [
       "array([[166, 114],\n",
       "       [ 70, 125]], dtype=int64)"
      ]
     },
     "execution_count": 267,
     "metadata": {},
     "output_type": "execute_result"
    }
   ],
   "source": [
    "cm"
   ]
  },
  {
   "cell_type": "code",
   "execution_count": 268,
   "metadata": {},
   "outputs": [
    {
     "data": {
      "text/plain": [
       "0.6126315789473684"
      ]
     },
     "execution_count": 268,
     "metadata": {},
     "output_type": "execute_result"
    }
   ],
   "source": [
    "skm.accuracy_score(Y_test,Y_pred_us)"
   ]
  },
  {
   "cell_type": "code",
   "execution_count": 269,
   "metadata": {},
   "outputs": [
    {
     "data": {
      "text/plain": [
       "0.6126315789473684"
      ]
     },
     "execution_count": 269,
     "metadata": {},
     "output_type": "execute_result"
    }
   ],
   "source": [
    "skm.accuracy_score(Y_test,Y_pred_us)"
   ]
  },
  {
   "cell_type": "code",
   "execution_count": 270,
   "metadata": {},
   "outputs": [
    {
     "data": {
      "text/plain": [
       "(array([0.70338983, 0.52301255]),\n",
       " array([0.59285714, 0.64102564]),\n",
       " array([0.64341085, 0.57603687]),\n",
       " array([280, 195], dtype=int64))"
      ]
     },
     "execution_count": 270,
     "metadata": {},
     "output_type": "execute_result"
    }
   ],
   "source": [
    "skm.precision_recall_fscore_support(Y_test,Y_pred_us)"
   ]
  },
  {
   "cell_type": "markdown",
   "metadata": {},
   "source": [
    "## ROC AUC"
   ]
  },
  {
   "cell_type": "code",
   "execution_count": 456,
   "metadata": {},
   "outputs": [
    {
     "data": {
      "image/png": "[encoded data removed]",
      "text/plain": [
       "<Figure size 600x400 with 1 Axes>"
      ]
     },
     "metadata": {},
     "output_type": "display_data"
    }
   ],
   "source": [
    "Y_prob = model2.predict_proba(X_test)[:, 1]\n",
    "fpr, tpr, thresholds = roc_curve(Y_test, Y_prob)\n",
    "roc_auc = auc(fpr, tpr)\n",
    "plt.figure(figsize=(6, 4))\n",
    "plt.plot(fpr, tpr, color='blue', lw=2, label=f'ROC curve (area = {roc_auc:.2f})')\n",
    "plt.plot([0, 1], [0, 1], color='grey', lw=2, linestyle='--')\n",
    "plt.xlim([0.0, 1.0])\n",
    "plt.ylim([0.0, 1.05])\n",
    "plt.xlabel('False Positive Rate')\n",
    "plt.ylabel('True Positive Rate')\n",
    "plt.title('Receiver Operating Characteristic (ROC) Curve')\n",
    "plt.legend(loc='lower right')\n",
    "plt.grid(alpha=0.3)\n",
    "plt.show()"
   ]
  },
  {
   "cell_type": "code",
   "execution_count": 457,
   "metadata": {},
   "outputs": [
    {
     "data": {
      "image/png": "[encoded data removed]",
      "text/plain": [
       "<Figure size 600x400 with 1 Axes>"
      ]
     },
     "metadata": {},
     "output_type": "display_data"
    }
   ],
   "source": [
    "Y1_prob = model4.predict_proba(X1_test)[:, 1]\n",
    "fpr, tpr, thresholds = roc_curve(Y1_test, Y1_prob)\n",
    "roc_auc = auc(fpr, tpr)\n",
    "plt.figure(figsize=(6, 4))\n",
    "plt.plot(fpr, tpr, color='blue', lw=2, label=f'ROC curve (area = {roc_auc:.2f})')\n",
    "plt.plot([0, 1], [0, 1], color='grey', lw=2, linestyle='--')\n",
    "plt.xlim([0.0, 1.0])\n",
    "plt.ylim([0.0, 1.05])\n",
    "plt.xlabel('False Positive Rate')\n",
    "plt.ylabel('True Positive Rate')\n",
    "plt.title('Receiver Operating Characteristic (ROC) Curve')\n",
    "plt.legend(loc='lower right')\n",
    "plt.grid(alpha=0.3)\n",
    "plt.show()"
   ]
  },
  {
   "cell_type": "code",
   "execution_count": null,
   "metadata": {},
   "outputs": [],
   "source": []
  }
 ],
 "metadata": {
  "colab": {
   "provenance": []
  },
  "kernelspec": {
   "display_name": "Python 3 (ipykernel)",
   "language": "python",
   "name": "python3"
  },
  "language_info": {
   "codemirror_mode": {
    "name": "ipython",
    "version": 3
   },
   "file_extension": ".py",
   "mimetype": "text/x-python",
   "name": "python",
   "nbconvert_exporter": "python",
   "pygments_lexer": "ipython3",
   "version": "3.11.7"
  }
 },
 "nbformat": 4,
 "nbformat_minor": 4
}
